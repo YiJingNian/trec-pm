{
 "cells": [
  {
   "cell_type": "markdown",
   "metadata": {},
   "source": [
    "# Prerequisites\n",
    "\n",
    "* Annotations: https://drive.google.com/open?id=19ILZxJIkSnOI5a93TyIjyeUATDQn61X5\n",
    "* Relevance score: http://www.trec-cds.org/qrels-treceval-clinical_trials.2017.txt\n",
    "* Clinical Trials XML collection: http://trec-cds.appspot.com/2018.html#documents\n",
    "* 2017 Topics: http://trec-cds.appspot.com/topics2017.xml"
   ]
  },
  {
   "cell_type": "code",
   "execution_count": null,
   "metadata": {},
   "outputs": [],
   "source": [
    "from os import listdir\n",
    "from os.path import isfile, isdir, join\n",
    "from lxml import etree\n",
    "import pandas as pd\n",
    "import tarfile\n",
    "import gzip\n",
    "import time\n",
    "import csv\n",
    "import re"
   ]
  },
  {
   "cell_type": "code",
   "execution_count": null,
   "metadata": {},
   "outputs": [],
   "source": [
    "# Decompress Files\n",
    "def decompress(myPath):\n",
    "    fileNames = [f for f in listdir(myPath) if isfile(join(myPath, f)) and f[-7:] == \".tar.gz\"]\n",
    "    for file in fileNames:\n",
    "        print(\"Extracting from: \", file)\n",
    "        tar = tarfile.open(join(myPath, file), \"r:gz\")\n",
    "        tar.extractall(join(myPath, file[:-7]))\n",
    "        tar.close()\n",
    "        print(\"Done\")\n",
    "        \n",
    "if __name__ == \"__main__\":\n",
    "    # Path containing the .tar.gz file (XML collection)\n",
    "    clinicalTrials = \"/TREC/XML-Collection/clinical-trials\"\n",
    "\n",
    "    # Decompress files\n",
    "    decompress(clinicalTrials)"
   ]
  },
  {
   "cell_type": "code",
   "execution_count": null,
   "metadata": {},
   "outputs": [],
   "source": [
    "# Extract Ids from the Gold-Standard CSV file\n",
    "def extractDocIDs(filePath):\n",
    "    \"\"\" Extracts all ids from the gold standard \"\"\"\n",
    "    f = pd.read_csv(filePath)\n",
    "    return set(f['trec_doc_id'])\n",
    "\n",
    "def getFolderNames(myPath):\n",
    "    dirNames = [d for d in listdir(myPath) if isdir(join(myPath, d))]\n",
    "    return dirNames\n",
    "\n",
    "# Get the name of the xml files\n",
    "def getFileNames(myPath):\n",
    "    fileNames = [f for f in listdir(myPath) if isfile(join(myPath, f)) and f[-4:] == \".xml\"]\n",
    "    return fileNames\n",
    "        \n",
    "# Extract relevant information from the XML files that match the gold-standard\n",
    "def extractFeatures(folderPath, docIDsPath, outputPath):\n",
    "    st = time.time()\n",
    "    \n",
    "    # Get Ids from the Gold-Standard\n",
    "    ids = extractDocIDs(docIDsPath)\n",
    "    print(\"Nr of IDs in the Gold-Standard:\", len(ids))\n",
    "    # Recover the names of each folder containing xml.gz files\n",
    "    folderNames = getFolderNames(folderPath)\n",
    "    print(\"Internal folders: \", len(folderNames))\n",
    "    nrExtractedXMLs = 0\n",
    "    \n",
    "    # Create TSV for the output\n",
    "    with open(outputPath, 'w', encoding='utf-8') as extractFile:\n",
    "        wr = csv.writer(extractFile, quoting=csv.QUOTE_ALL, delimiter=\"\\t\")\n",
    "        wr.writerow([\"trec_doc_id\",\"brief_title\",\"official_title\",\"brief_summary\",\n",
    "                     \"detailed_description\",\"phase\",\"study_type\",\"study_design_info\",\n",
    "                     \"outcomes\",\"conditions\",\"arm_groups\", \"drug_interventions\",\"other_interventions\",\"inclusion_criteria\",\n",
    "                     \"mesh_terms_conditions\",\"mesh_terms_interventions\"\n",
    "                    ])\n",
    "    \n",
    "    # Iterate through the folders with the xml files\n",
    "    parser = etree.XMLParser(encoding='utf-8', recover=True)\n",
    "    \n",
    "    for folderName in folderNames:\n",
    "        print(\"Looking into files from folder: \", folderName)\n",
    "        secondLevelFolders = getFolderNames(join(folderPath, folderName))\n",
    "        for secondLevelFolder in secondLevelFolders:\n",
    "            print(\"Analyzing information from folder: \", secondLevelFolder)\n",
    "            fileNames = getFileNames(join(join(folderPath, folderName), secondLevelFolder))            \n",
    "            for fileName in fileNames:\n",
    "                if fileName[:-4] in ids:                 \n",
    "                    print(\"Extracting info from the file: \", fileName)\n",
    "                    filePath = join(join(join(folderPath, folderName), secondLevelFolder), fileName)\n",
    "                    ct = etree.parse(open(filePath, 'rt', encoding='utf-8'), parser=parser).getroot()\n",
    "                    summaryList = []\n",
    "                    detailList = []\n",
    "                    outcomeList = []\n",
    "                    conditionList = []\n",
    "                    armGroupList = []\n",
    "                    DrugInterventionList = []\n",
    "                    OtherInterventionList = []\n",
    "                    conditionsMeshList = []\n",
    "                    interventionsMeshList = []\n",
    "                    inclusionCriteriaList = []\n",
    "                    \n",
    "                    # Get titles\n",
    "                    if ct.find(\"brief_title\") is not None:\n",
    "                        brief_title = ''.join(ct.find(\"brief_title\").itertext())\n",
    "                    if ct.find(\"official_title\") is not None:\n",
    "                        official_title = ''.join(ct.find(\"official_title\").itertext())\n",
    "                    # Get summary\n",
    "                    if ct.find(\"brief_summary\") is not None:\n",
    "                        for summaryPiece in ct.findall(\"brief_summary/textblock\"):\n",
    "                            summaryList.append(''.join(summaryPiece.itertext()).strip().replace(\"\\n\",\"\").replace(\"\\t\",\"\"))\n",
    "                        brief_summary = ' '.join(summaryList)\n",
    "                    # Get detailed description\n",
    "                    if ct.find(\"detailed_description\") is not None:\n",
    "                        for detailPiece in ct.findall(\"detailed_description/textblock\"):\n",
    "                            detailList.append(''.join(detailPiece.itertext()).strip().replace(\"\\n\",\"\").replace(\"\\t\",\"\"))\n",
    "                        detailed_description = ' '.join(detailList)\n",
    "                    # Phase\n",
    "                    if ct.find(\"phase\") is not None:\n",
    "                        phase = ''.join(ct.find(\"phase\").itertext())\n",
    "                    # Study type\n",
    "                    if ct.find(\"study_type\") is not None:\n",
    "                        study_type = ''.join(ct.find(\"study_type\").itertext())\n",
    "                    # Study Design Info\n",
    "                    if ct.find(\"study_design_info\") is not None:\n",
    "                        study_design = ''.join(ct.find(\"study_design_info\").itertext()).strip().replace(\"\\n\",\"\")\n",
    "                    # Outcomes Info\n",
    "                    if ct.find(\"primary_outcome\") is not None:\n",
    "                        for outcomePiece in ct.findall(\"primary_outcome\"):\n",
    "                            outcomeList.append(''.join(outcomePiece.itertext()).strip().replace(\"\\n\",\"\").replace(\"\\t\",\"\"))\n",
    "                    if ct.find(\"secondary_outcome\") is not None:\n",
    "                        for outcomePiece in ct.findall(\"secondary_outcome\"):\n",
    "                            outcomeList.append(''.join(outcomePiece.itertext()).strip().replace(\"\\n\",\"\").replace(\"\\t\",\"\"))\n",
    "                    # Different outcomes separated by \";\"\n",
    "                    if outcomeList:\n",
    "                        outcomes = ';'.join(outcomeList)\n",
    "                    # Get Conditions - different conditions separated by \";\"\n",
    "                    if ct.find(\"condition\") is not None:\n",
    "                        for conditionPiece in ct.findall(\"condition\"):\n",
    "                            conditionList.append(''.join(conditionPiece.itertext()).strip().replace(\"\\n\",\"\").replace(\"\\t\",\"\"))\n",
    "                        conditions = ';'.join(conditionList)\n",
    "                    # Get ArmGroup Info - different arm groups separated by \";\"\n",
    "                    if ct.find(\"arm_group\") is not None:\n",
    "                        for armGroupPiece in ct.findall(\"arm_group\"):\n",
    "                            armGroupList.append(''.join(armGroupPiece.itertext()).strip().replace(\"\\n\",\"\").replace(\"\\t\",\"\"))\n",
    "                        arm_groups = ';'.join(armGroupList)\n",
    "                    # Get Interventions - different interventions separated by \";\"\n",
    "                    if ct.find(\"intervention\") is not None:\n",
    "                        for interventioPiece in ct.findall(\"intervention\"):\n",
    "                            if (interventioPiece.find('intervention_type').text) == \"Drug\":\n",
    "                                DrugInterventionList.append(interventioPiece.find('intervention_name').text)\n",
    "                                for otherName in interventioPiece.findall('other_name'):\n",
    "                                    DrugInterventionList.append(otherName.text.strip().replace(\"\\n\",\"\").replace(\"\\t\",\"\"))\n",
    "                            else:\n",
    "                                OtherInterventionList.append(interventioPiece.find('intervention_name').text)\n",
    "                                for otherName in interventioPiece.findall('other_name'):\n",
    "                                    OtherInterventionList.append(otherName.text.strip().replace(\"\\n\",\"\").replace(\"\\t\",\"\"))\n",
    "                        drug_interventions = ';'.join(DrugInterventionList)\n",
    "                        other_interventions = ';'.join(OtherInterventionList)\n",
    "                    # Get Conditions Mesh Terms Info - different mesh_terms separated by \";\"\n",
    "                    if ct.find(\"condition_browse\") is not None:\n",
    "                        for meshCPiece in ct.findall(\"condition_browse/mesh_term\"):\n",
    "                            conditionsMeshList.append(''.join(meshCPiece.itertext()).strip().replace(\"\\n\",\"\").replace(\"\\t\",\"\"))\n",
    "                        mesh_terms_conditions = ';'.join(conditionsMeshList)\n",
    "                    # Get Interventions Mesh Terms Info - different mesh_terms separated by \";\"\n",
    "                    mesh_terms_interventions = \"\"\n",
    "                    if ct.find(\"intervention_browse\") is not None:\n",
    "                        for meshIPiece in ct.findall(\"intervention_browse/mesh_term\"):\n",
    "                            interventionsMeshList.append(''.join(meshIPiece.itertext()).strip().replace(\"\\n\",\"\").replace(\"\\t\",\"\"))\n",
    "                        mesh_terms_interventions = ';'.join(interventionsMeshList)\n",
    "                    # Get Inclusion Criteria\n",
    "                    if ct.find(\"eligibility/criteria\") is not None:\n",
    "                        for eligibilityPiece in ct.findall(\"eligibility/criteria\"):\n",
    "                            criteria = ''.join(eligibilityPiece.itertext()).strip().replace(\"\\n\",\"\").replace(\"\\t\",\"\")\n",
    "                            inclusionCriteria = re.search(r\"([Ii]nclusion [Cc]riteria)?(.+?)([Ee]xclusion [Cc]riteria|[Ee]xcluded if|$)\", criteria)\n",
    "                            if inclusionCriteria:\n",
    "                                inclusionCriteriaList.append(inclusionCriteria.group(2))\n",
    "                        inclusion_criteria = ';'.join(inclusionCriteriaList)\n",
    "                        \n",
    "#                     print(\"\\nBrief_Title\")\n",
    "#                     print(brief_title)\n",
    "#                     print(\"\\nOfficial_Title\")\n",
    "#                     print(official_title)\n",
    "#                     print(\"\\nBrief_Summary\")\n",
    "#                     print(brief_summary)\n",
    "#                     print(\"\\nDetailed_Description\")\n",
    "#                     print(detailed_description)\n",
    "#                     print(\"\\nPhase\")\n",
    "#                     print(phase)\n",
    "#                     print(\"\\nStudy Type\")\n",
    "#                     print(study_type)\n",
    "#                     print(\"\\nStudy Design\")\n",
    "#                     print(study_design)\n",
    "#                     print(\"\\nOutcomes\")\n",
    "#                     print(outcomes)\n",
    "#                     print(\"\\nConditions\")\n",
    "#                     print(conditions)\n",
    "#                     print(\"\\nArm Groups\")\n",
    "#                     print(arm_groups)\n",
    "#                     print(\"\\nDrug Interventions\")\n",
    "#                     print(drug_interventions)\n",
    "#                     print(\"\\nOther Interventions\")\n",
    "#                     print(other_interventions)\n",
    "#                     print(\"\\nMesh Terms Conditions\")\n",
    "#                     print(mesh_terms_conditions)\n",
    "#                     print(\"\\nMesh Terms Interventions\")\n",
    "#                     print(mesh_terms_interventions)\n",
    "#                     print(\"\\nInclusion Criteria\")\n",
    "#                     print(inclusion_criteria)\n",
    "                    \n",
    "                    # Write the result to TSV\n",
    "                    with open(outputPath, 'a', encoding='utf-8') as extractFile:\n",
    "                        wr = csv.writer(extractFile, quoting=csv.QUOTE_ALL, delimiter=\"\\t\")\n",
    "                        wr.writerow([fileName[:-4], brief_title, official_title, brief_summary, detailed_description,\n",
    "                                    phase,study_type,study_design,outcomes,conditions,arm_groups,drug_interventions,\n",
    "                                     other_interventions,inclusion_criteria,mesh_terms_conditions,mesh_terms_interventions])\n",
    "                \n",
    "                    # Count the number of extracted papers\n",
    "                    nrExtractedXMLs += 1\n",
    "    \n",
    "    print(\"Number of papers with information extracted: \", nrExtractedXMLs)\n",
    "    end = time.time()\n",
    "    print(\"Run time: \", end-st)\n",
    "\n",
    "if __name__ == \"__main__\":\n",
    "    # Path containing the xml files\n",
    "    clinicalTrialsPath = \"TREC/XML-Collection/clinical-trials/clinicaltrials_xml/clinicaltrials_xml\"\n",
    "    # Path containing the Annotated Gold-Standard File\n",
    "    docIDPath = \"../resources/clinical_trials.judgments.2017.csv\"\n",
    "    # Output file\n",
    "    outputPath = \"../resources/relevant-clinical-trials-XML.tsv\"\n",
    "    \n",
    "    # Extract relevant information from the XML files\n",
    "    extractFeatures(clinicalTrialsPath, docIDPath, outputPath)"
   ]
  },
  {
   "cell_type": "markdown",
   "metadata": {},
   "source": [
    "# Read GS Clinical Trials"
   ]
  },
  {
   "cell_type": "code",
   "execution_count": null,
   "metadata": {},
   "outputs": [],
   "source": [
    "clinicalTrials = pd.read_csv(\"../resources/relevant-clinical-trials-XML.tsv\", sep='\\t', encoding=\"utf-8\", dtype={'trec_doc_id':object})\n",
    "clinicalTrials.shape"
   ]
  },
  {
   "cell_type": "markdown",
   "metadata": {},
   "source": [
    "# Read Annotations"
   ]
  },
  {
   "cell_type": "code",
   "execution_count": null,
   "metadata": {},
   "outputs": [],
   "source": [
    "annotations = pd.read_csv(\"../resources/clinical_trials.judgments.2017.csv\", sep=',', encoding=\"utf-8\", dtype={'trec_topic_number':object})\n",
    "annotations.shape"
   ]
  },
  {
   "cell_type": "markdown",
   "metadata": {},
   "source": [
    "# Read Relevance Score"
   ]
  },
  {
   "cell_type": "code",
   "execution_count": null,
   "metadata": {},
   "outputs": [],
   "source": [
    "relevance = pd.read_csv(\"../resources/qrels-treceval-clinical_trials.2017.txt\", sep=' ', encoding=\"utf-8\", header=None, \n",
    "                        names=[\"trec_topic_number\", \"x\", \"trec_doc_id\", \"relevance_score\"], dtype={'trec_topic_number':object})\n",
    "relevance.shape"
   ]
  },
  {
   "cell_type": "markdown",
   "metadata": {},
   "source": [
    "# Read Topics"
   ]
  },
  {
   "cell_type": "markdown",
   "metadata": {},
   "source": [
    "## 2017"
   ]
  },
  {
   "cell_type": "code",
   "execution_count": null,
   "metadata": {},
   "outputs": [],
   "source": [
    "topicsColumns = ['trec_topic_number', 'trec_topic_disease', 'trec_topic_age', 'trec_topic_sex', 'trec_topic_other1', 'trec_topic_other2', 'trec_topic_other3']\n",
    "topics = pd.DataFrame(columns=topicsColumns)\n",
    "topicsXML = etree.parse(\"../resources/topics2017.xml\")\n",
    "for topic in topicsXML.getroot():\n",
    "    topicNumber = topic.get('number')\n",
    "    disease = topic.find('disease').text\n",
    "    demographic = topic.find('demographic').text.split(' ')\n",
    "    age = demographic[0]\n",
    "    sex = demographic[1]\n",
    "    other = topic.find('other').text.split(',')\n",
    "    other1 = other[0]\n",
    "    other2 = None\n",
    "    other3 = None\n",
    "    if len(other) == 2:\n",
    "        other2 = other[1]\n",
    "    if len(other) > 2:\n",
    "        other3 = other[2]\n",
    "    topics = topics.append(pd.Series([topicNumber, disease, age, sex, other1, other2, other3], index=topicsColumns), ignore_index=True)\n",
    "topics.shape"
   ]
  },
  {
   "cell_type": "markdown",
   "metadata": {},
   "source": [
    "## 2018"
   ]
  },
  {
   "cell_type": "code",
   "execution_count": null,
   "metadata": {},
   "outputs": [],
   "source": [
    "topicsColumns = ['trec_topic_number', 'trec_topic_disease', 'trec_topic_age', 'trec_topic_sex']\n",
    "topics = pd.DataFrame(columns=topicsColumns)\n",
    "topicsXML = etree.parse(\"../resources/topics2018.xml\")\n",
    "for topic in topicsXML.getroot():\n",
    "    topicNumber = topic.get('number')\n",
    "    disease = topic.find('disease').text\n",
    "    demographic = topic.find('demographic').text.split(' ')\n",
    "    age = demographic[0]\n",
    "    sex = demographic[1]\n",
    "    topics = topics.append(pd.Series([topicNumber, disease, age, sex], index=topicsColumns), ignore_index=True)\n",
    "topics.shape"
   ]
  },
  {
   "cell_type": "markdown",
   "metadata": {},
   "source": [
    "# Merge Annotations and Relevance"
   ]
  },
  {
   "cell_type": "code",
   "execution_count": null,
   "metadata": {},
   "outputs": [],
   "source": [
    "annotationsRelevance = annotations.merge(relevance, left_on=['trec_topic_number','trec_doc_id'], right_on=['trec_topic_number','trec_doc_id'], how='left')\n",
    "annotationsRelevance.drop([\"x\"], axis=1, inplace=True)\n",
    "annotationsRelevance.shape"
   ]
  },
  {
   "cell_type": "markdown",
   "metadata": {},
   "source": [
    "# Merge Annotantions and Relevance with CT from the GS"
   ]
  },
  {
   "cell_type": "code",
   "execution_count": null,
   "metadata": {},
   "outputs": [],
   "source": [
    "processedClinicalTrials = annotationsRelevance.merge(clinicalTrials, left_on=['trec_doc_id'], right_on=['trec_doc_id'], how='left')\n",
    "processedClinicalTrials.shape"
   ]
  },
  {
   "cell_type": "markdown",
   "metadata": {},
   "source": [
    "# Add 2017 Topics Information"
   ]
  },
  {
   "cell_type": "code",
   "execution_count": null,
   "metadata": {},
   "outputs": [],
   "source": [
    "processedGoldStandard = processedClinicalTrials.merge(topics, left_on=['trec_topic_number'], right_on=['trec_topic_number'], how='left')\n",
    "processedGoldStandard.shape"
   ]
  },
  {
   "cell_type": "markdown",
   "metadata": {},
   "source": [
    "# Save the Output"
   ]
  },
  {
   "cell_type": "code",
   "execution_count": null,
   "metadata": {},
   "outputs": [],
   "source": [
    "date = time.strftime(\"%Y%m%d\")\n",
    "processedGoldStandard.to_csv(path_or_buf='../resources/'+ date + 'processed-goldstandard-CT.tsv', sep='\\t')"
   ]
  }
 ],
 "metadata": {
  "kernelspec": {
   "display_name": "Python 3",
   "language": "python",
   "name": "python3"
  },
  "language_info": {
   "codemirror_mode": {
    "name": "ipython",
    "version": 3
   },
   "file_extension": ".py",
   "mimetype": "text/x-python",
   "name": "python",
   "nbconvert_exporter": "python",
   "pygments_lexer": "ipython3",
   "version": "3.7.3"
  }
 },
 "nbformat": 4,
 "nbformat_minor": 2
}
