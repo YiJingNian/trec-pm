{
 "cells": [
  {
   "cell_type": "code",
   "execution_count": null,
   "metadata": {},
   "outputs": [],
   "source": [
    "from os.path import join\n",
    "import itertools"
   ]
  },
  {
   "cell_type": "code",
   "execution_count": null,
   "metadata": {},
   "outputs": [],
   "source": [
    "folderPath = \"../keywords\"\n",
    "filePath = join(folderPath, \"top-terms.txt\")"
   ]
  },
  {
   "cell_type": "code",
   "execution_count": null,
   "metadata": {},
   "outputs": [],
   "source": [
    "with open(filePath) as f:\n",
    "    content = f.read().splitlines()\n",
    "\n",
    "print(\"Amount of words: \", len(content))\n",
    "\n",
    "# Set the number of words to be combined\n",
    "l = 2\n",
    "print(\"Combine in groups of: \", l)\n",
    "\n",
    "# Set the output file\n",
    "outputFilepath = join(folderPath, \"combined-keywords-\"+str(l)+\".txt\")\n",
    "outputFile = open(outputFilepath, 'w+')\n",
    "\n",
    "# Combine words\n",
    "n = 0\n",
    "print(\"\\nWriting subsets to file...\")\n",
    "for subset in itertools.combinations(content, l):\n",
    "    outputFile.write((' ').join(subset))\n",
    "    outputFile.write('\\n')\n",
    "    n += 1\n",
    "print(\"Nr of Subsets: \", n)\n",
    "outputFile.close()\n",
    "print(\"\\nDone!\")"
   ]
  }
 ],
 "metadata": {
  "kernelspec": {
   "display_name": "Python 3",
   "language": "python",
   "name": "python3"
  },
  "language_info": {
   "codemirror_mode": {
    "name": "ipython",
    "version": 3
   },
   "file_extension": ".py",
   "mimetype": "text/x-python",
   "name": "python",
   "nbconvert_exporter": "python",
   "pygments_lexer": "ipython3",
   "version": "3.7.4"
  }
 },
 "nbformat": 4,
 "nbformat_minor": 2
}
