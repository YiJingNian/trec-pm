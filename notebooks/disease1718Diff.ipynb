{
 "cells": [
  {
   "cell_type": "code",
   "execution_count": null,
   "metadata": {},
   "outputs": [],
   "source": [
    "# Download and extract xml diseases and genes from 2018\n",
    "from six.moves import urllib\n",
    "from xml.etree import cElementTree as ET\n",
    "\n",
    "DOWNLOAD_ROOT = \"http://trec-cds.appspot.com/\"\n",
    "FILENAME18 = \"topics2018.xml\"\n",
    "DOWNLOAD_URL = DOWNLOAD_ROOT + FILENAME18\n",
    "\n",
    "def fetch_topics_xml(url = DOWNLOAD_URL, fn = FILENAME18):\n",
    "    urllib.request.urlretrieve(url, fn)\n",
    "    tree = ET.parse(fn)\n",
    "    root = tree.getroot()\n",
    "    diseases18 = {item.text.lower() for item in root.findall('./topic/disease')}\n",
    "    genes18 = {item.text.lower() for item in root.findall('./topic/gene')}\n",
    "    return diseases18, genes18\n",
    "    \n",
    "diseases18, genes18 = fetch_topics_xml()\n",
    "print(\"Diseases18: \", list(diseases18), \"\\n\")\n",
    "print(\"Genes18: \", genes18)"
   ]
  },
  {
   "cell_type": "code",
   "execution_count": null,
   "metadata": {},
   "outputs": [],
   "source": [
    "# Download and extract xml diseases and genes from 2017\n",
    "\n",
    "FILENAME17 = \"topics2017.xml\"\n",
    "\n",
    "diseases17, genes17 = fetch_topics_xml(DOWNLOAD_ROOT+FILENAME17, FILENAME17)\n",
    "print(\"Diseases17: \", diseases17, \"\\n\")\n",
    "print(\"Genes17: \", genes17)"
   ]
  },
  {
   "cell_type": "code",
   "execution_count": null,
   "metadata": {},
   "outputs": [],
   "source": [
    "# Find diseases and genes in common from 2017 and 2018\n",
    "\n",
    "print(diseases17 & diseases18)\n",
    "print(genes17 & genes18)"
   ]
  }
 ],
 "metadata": {
  "kernelspec": {
   "display_name": "Python 3",
   "language": "python",
   "name": "python3"
  },
  "language_info": {
   "codemirror_mode": {
    "name": "ipython",
    "version": 3
   },
   "file_extension": ".py",
   "mimetype": "text/x-python",
   "name": "python",
   "nbconvert_exporter": "python",
   "pygments_lexer": "ipython3",
   "version": "3.7.3"
  }
 },
 "nbformat": 4,
 "nbformat_minor": 2
}
