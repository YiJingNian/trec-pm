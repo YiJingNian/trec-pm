{
 "cells": [
  {
   "cell_type": "code",
   "execution_count": 314,
   "metadata": {},
   "outputs": [],
   "source": [
    "import pandas as pd\n",
    "from parse import *\n",
    "from collections import OrderedDict"
   ]
  },
  {
   "cell_type": "code",
   "execution_count": 315,
   "metadata": {},
   "outputs": [],
   "source": [
    "%run TableCreationBaseline.py\n",
    "%run mapRunNames.py\n",
    "%run addMidruleToLatex.py"
   ]
  },
  {
   "cell_type": "code",
   "execution_count": 316,
   "metadata": {},
   "outputs": [
    {
     "data": {
      "text/plain": [
       "'DS_DH'"
      ]
     },
     "execution_count": 316,
     "metadata": {},
     "output_type": "execute_result"
    }
   ],
   "source": [
    "s = \"DSYN_DHYP\"\n",
    "names = {\"DSYN\": \"DS\", \"DPT\": \"DP\", \"DHYP\": \"DH\", \"GSYN\": \"GS\", \"GDES\": \"GD\"}\n",
    "for key in names.keys():\n",
    "    s = s.replace(key, names[key])\n",
    "s"
   ]
  },
  {
   "cell_type": "code",
   "execution_count": 317,
   "metadata": {},
   "outputs": [],
   "source": [
    "year = 2018"
   ]
  },
  {
   "cell_type": "code",
   "execution_count": 318,
   "metadata": {},
   "outputs": [
    {
     "data": {
      "text/html": [
       "<div>\n",
       "<style scoped>\n",
       "    .dataframe tbody tr th:only-of-type {\n",
       "        vertical-align: middle;\n",
       "    }\n",
       "\n",
       "    .dataframe tbody tr th {\n",
       "        vertical-align: top;\n",
       "    }\n",
       "\n",
       "    .dataframe thead th {\n",
       "        text-align: right;\n",
       "    }\n",
       "</style>\n",
       "<table border=\"1\" class=\"dataframe\">\n",
       "  <thead>\n",
       "    <tr style=\"text-align: right;\">\n",
       "      <th></th>\n",
       "      <th></th>\n",
       "      <th></th>\n",
       "      <th></th>\n",
       "      <th>slop</th>\n",
       "      <th>recall</th>\n",
       "      <th>relgs</th>\n",
       "      <th>relfound</th>\n",
       "      <th>ndcg</th>\n",
       "      <th>infNDCG</th>\n",
       "      <th>Rprec</th>\n",
       "      <th>P_10</th>\n",
       "      <th>mean_r</th>\n",
       "      <th>std_r</th>\n",
       "    </tr>\n",
       "    <tr>\n",
       "      <th>run</th>\n",
       "      <th>multfields</th>\n",
       "      <th>op</th>\n",
       "      <th>wordremoval</th>\n",
       "      <th></th>\n",
       "      <th></th>\n",
       "      <th></th>\n",
       "      <th></th>\n",
       "      <th></th>\n",
       "      <th></th>\n",
       "      <th></th>\n",
       "      <th></th>\n",
       "      <th></th>\n",
       "      <th></th>\n",
       "    </tr>\n",
       "  </thead>\n",
       "  <tbody>\n",
       "    <tr>\n",
       "      <th rowspan=\"5\" valign=\"top\">DHYP</th>\n",
       "      <th rowspan=\"4\" valign=\"top\">best_fields</th>\n",
       "      <th rowspan=\"2\" valign=\"top\">AND</th>\n",
       "      <th>False</th>\n",
       "      <td>10</td>\n",
       "      <td>84.84</td>\n",
       "      <td>5588</td>\n",
       "      <td>4741</td>\n",
       "      <td>59.03</td>\n",
       "      <td>46.43</td>\n",
       "      <td>34.07</td>\n",
       "      <td>52.2</td>\n",
       "      <td>602.86</td>\n",
       "      <td>1094.61</td>\n",
       "    </tr>\n",
       "    <tr>\n",
       "      <th>True</th>\n",
       "      <td>10</td>\n",
       "      <td>84.84</td>\n",
       "      <td>5588</td>\n",
       "      <td>4741</td>\n",
       "      <td>59.03</td>\n",
       "      <td>46.43</td>\n",
       "      <td>34.07</td>\n",
       "      <td>52.2</td>\n",
       "      <td>602.86</td>\n",
       "      <td>1094.61</td>\n",
       "    </tr>\n",
       "    <tr>\n",
       "      <th rowspan=\"2\" valign=\"top\">OR</th>\n",
       "      <th>False</th>\n",
       "      <td>10</td>\n",
       "      <td>87.85</td>\n",
       "      <td>5588</td>\n",
       "      <td>4909</td>\n",
       "      <td>55.30</td>\n",
       "      <td>41.10</td>\n",
       "      <td>29.58</td>\n",
       "      <td>44.6</td>\n",
       "      <td>761.74</td>\n",
       "      <td>1260.05</td>\n",
       "    </tr>\n",
       "    <tr>\n",
       "      <th>True</th>\n",
       "      <td>10</td>\n",
       "      <td>87.85</td>\n",
       "      <td>5588</td>\n",
       "      <td>4909</td>\n",
       "      <td>55.30</td>\n",
       "      <td>41.10</td>\n",
       "      <td>29.58</td>\n",
       "      <td>44.6</td>\n",
       "      <td>761.74</td>\n",
       "      <td>1260.05</td>\n",
       "    </tr>\n",
       "    <tr>\n",
       "      <th>phrase</th>\n",
       "      <th>OR</th>\n",
       "      <th>False</th>\n",
       "      <td>10</td>\n",
       "      <td>84.45</td>\n",
       "      <td>5588</td>\n",
       "      <td>4719</td>\n",
       "      <td>58.75</td>\n",
       "      <td>48.10</td>\n",
       "      <td>34.13</td>\n",
       "      <td>55.8</td>\n",
       "      <td>636.31</td>\n",
       "      <td>1156.93</td>\n",
       "    </tr>\n",
       "  </tbody>\n",
       "</table>\n",
       "</div>"
      ],
      "text/plain": [
       "                                  slop  recall  relgs  relfound   ndcg  \\\n",
       "run  multfields  op  wordremoval                                         \n",
       "DHYP best_fields AND False          10   84.84   5588      4741  59.03   \n",
       "                     True           10   84.84   5588      4741  59.03   \n",
       "                 OR  False          10   87.85   5588      4909  55.30   \n",
       "                     True           10   87.85   5588      4909  55.30   \n",
       "     phrase      OR  False          10   84.45   5588      4719  58.75   \n",
       "\n",
       "                                  infNDCG  Rprec  P_10  mean_r    std_r  \n",
       "run  multfields  op  wordremoval                                         \n",
       "DHYP best_fields AND False          46.43  34.07  52.2  602.86  1094.61  \n",
       "                     True           46.43  34.07  52.2  602.86  1094.61  \n",
       "                 OR  False          41.10  29.58  44.6  761.74  1260.05  \n",
       "                     True           41.10  29.58  44.6  761.74  1260.05  \n",
       "     phrase      OR  False          48.10  34.13  55.8  636.31  1156.93  "
      ]
     },
     "execution_count": 318,
     "metadata": {},
     "output_type": "execute_result"
    }
   ],
   "source": [
    "df = pd.read_csv(\"/Users/faessler/nfshome/Research/sigir/recall/recall_analysis\"+str(year)+\".csv\", index_col=\"run\")\n",
    "df = df.set_index([\"multfields\",\"op\",\"wordremoval\"],append=\"True\").round(2)\n",
    "df.head()"
   ]
  },
  {
   "cell_type": "code",
   "execution_count": 319,
   "metadata": {},
   "outputs": [],
   "source": [
    "wrruns = list(filter(lambda x: \"WR\" in x, df.index.levels[0]))\n",
    "dfrecall = df.query(\"multfields == 'best_fields' and op == 'OR' and wordremoval==False\").drop([\"NONE\"]+wrruns, axis=0)"
   ]
  },
  {
   "cell_type": "code",
   "execution_count": 320,
   "metadata": {},
   "outputs": [],
   "source": [
    "bltable = getBaselineDf()\n",
    "blline = bltable.query(\"year == \" + str(year)).drop([\"P_10\", \"year\"], axis=1).stack()\n",
    "blline.index = blline.index.droplevel()"
   ]
  },
  {
   "cell_type": "markdown",
   "metadata": {},
   "source": [
    "# This is the table that shows results for the baseline plus topic expansions"
   ]
  },
  {
   "cell_type": "code",
   "execution_count": 321,
   "metadata": {},
   "outputs": [],
   "source": [
    "table = dfrecall.reset_index(\"run\",drop=False).set_index(\"run\").drop([\"slop\", \"relgs\",\"relfound\",\"ndcg\", \"P_10\"],axis=1)\n",
    "formeanoverview = table.query(\"not run.str.contains('DPT') and not run.str.contains('HYP')\")\n",
    "formeanoverview.mean().to_csv(\"mean_or_\"+str(year)+\".csv\")\n",
    "table.rename({\"DSYN_DHYP_DPT_GSYN\": \"ALL\"}, inplace=True)\n",
    "table = table.sort_values(\"recall\")\n",
    "table.index = table.index.map(mapRunNames)\n",
    "table.loc[\"mean\"] = table.mean()\n",
    "table.loc[\"baseline\"] = blline\n",
    "latex = table.round(2).reset_index().to_latex(index=False)"
   ]
  },
  {
   "cell_type": "code",
   "execution_count": 322,
   "metadata": {},
   "outputs": [
    {
     "name": "stdout",
     "output_type": "stream",
     "text": [
      "\\begin{tabular}{lrrrrr}\n",
      "\\toprule\n",
      "      run &  recall &  infNDCG &  Rprec &   mean\\_r &    std\\_r \\\\\n",
      "\\midrule\n",
      "       DP &   86.36 &    49.73 &  34.25 &   586.52 &  1079.01 \\\\\n",
      "       DS &   87.17 &    49.97 &  34.48 &   586.53 &  1085.75 \\\\\n",
      "    DS\\_DP &   87.33 &    49.12 &  34.01 &   601.50 &  1108.20 \\\\\n",
      "       DH &   87.85 &    41.10 &  29.58 &   761.74 &  1260.05 \\\\\n",
      "    DH\\_DP &   87.85 &    41.25 &  29.80 &   761.77 &  1260.09 \\\\\n",
      "    DS\\_DH &   88.01 &    41.86 &  30.48 &   753.48 &  1269.43 \\\\\n",
      " DS\\_DH\\_DP &   88.01 &    41.76 &  30.50 &   754.51 &  1270.09 \\\\\n",
      "    DP\\_GS &   92.32 &    41.06 &  27.10 &  1002.87 &  1593.97 \\\\\n",
      "       GS &   93.02 &    44.31 &  30.45 &   847.41 &  1449.01 \\\\\n",
      " DS\\_DP\\_GS &   93.11 &    40.37 &  26.01 &  1004.25 &  1591.46 \\\\\n",
      "    DH\\_GS &   93.18 &    31.89 &  22.56 &  1322.11 &  1867.98 \\\\\n",
      "    DS\\_GS &   93.18 &    40.53 &  26.36 &   979.76 &  1574.61 \\\\\n",
      " DH\\_DP\\_GS &   93.24 &    32.50 &  22.96 &  1325.39 &  1878.22 \\\\\n",
      " DS\\_DH\\_GS &   93.32 &    32.80 &  22.69 &  1286.37 &  1839.02 \\\\\n",
      "      ALL &   93.38 &    33.23 &  23.02 &  1291.36 &  1851.20 \\\\\n",
      "     mean &   90.49 &    40.77 &  28.28 &   924.37 &  1465.21 \\\\\n",
      "\\midrule\n",
      " baseline &   86.78 &    53.65 &  37.43 &   494.27 &   926.40 \\\\\n",
      "\\bottomrule\n",
      "\\end{tabular}\n"
     ]
    }
   ],
   "source": [
    "addMidruleToLatex(latex)"
   ]
  },
  {
   "cell_type": "code",
   "execution_count": 323,
   "metadata": {},
   "outputs": [
    {
     "data": {
      "text/plain": [
       "Index(['DP', 'DS', 'DS_DP', 'DH', 'DH_DP', 'DS_DH', 'DS_DH_DP', 'DP_GS', 'GS',\n",
       "       'DS_DP_GS', 'DH_GS', 'DS_GS', 'DH_DP_GS', 'DS_DH_GS', 'ALL', 'mean',\n",
       "       'baseline'],\n",
       "      dtype='object', name='run')"
      ]
     },
     "execution_count": 323,
     "metadata": {},
     "output_type": "execute_result"
    }
   ],
   "source": [
    "table.index"
   ]
  }
 ],
 "metadata": {
  "kernelspec": {
   "display_name": "Python 3",
   "language": "python",
   "name": "python3"
  },
  "language_info": {
   "codemirror_mode": {
    "name": "ipython",
    "version": 3
   },
   "file_extension": ".py",
   "mimetype": "text/x-python",
   "name": "python",
   "nbconvert_exporter": "python",
   "pygments_lexer": "ipython3",
   "version": "3.6.3"
  }
 },
 "nbformat": 4,
 "nbformat_minor": 2
}
