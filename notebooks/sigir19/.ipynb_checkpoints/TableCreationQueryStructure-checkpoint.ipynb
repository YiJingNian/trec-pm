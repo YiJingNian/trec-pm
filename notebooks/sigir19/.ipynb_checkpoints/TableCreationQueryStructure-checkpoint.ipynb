{
 "cells": [
  {
   "cell_type": "code",
   "execution_count": 181,
   "metadata": {},
   "outputs": [],
   "source": [
    "import pandas as pd"
   ]
  },
  {
   "cell_type": "code",
   "execution_count": 182,
   "metadata": {},
   "outputs": [],
   "source": [
    "%run TableCreationBaseline.py\n",
    "%run addMidruleToLatex.py\n",
    "%run mapRunNames.py"
   ]
  },
  {
   "cell_type": "code",
   "execution_count": 183,
   "metadata": {},
   "outputs": [],
   "source": [
    "year = 2018\n",
    "df = pd.read_csv(\"/Users/faessler/nfshome/Research/sigir/recall/recall_analysis\"+str(year)+\".csv\", index_col=\"run\").round(2)\n",
    "df[\"year\"] = pd.Series([year]*len(df), index=df.index)"
   ]
  },
  {
   "cell_type": "code",
   "execution_count": 184,
   "metadata": {},
   "outputs": [],
   "source": [
    "dfrecallphraseand = df.query(\"(op != 'OR' or multfields=='phrase') and not run.str.contains('DHYP') and not run.str.contains('DPT') and not run.str.contains('WR') and wordremoval==False\")\n",
    "dfrecallphraseand.head()\n",
    "bestfields = dfrecallphraseand.query(\"multfields == 'best_fields'\")"
   ]
  },
  {
   "cell_type": "code",
   "execution_count": 185,
   "metadata": {},
   "outputs": [],
   "source": [
    "bltable = getBaselineDf()\n",
    "blline = bltable.query(\"year == \" + str(year)).drop([\"P_10\", \"year\"], axis=1).stack()\n",
    "blline.index = blline.index.droplevel()"
   ]
  },
  {
   "cell_type": "markdown",
   "metadata": {},
   "source": [
    "# This is the table for the AND operator for the multi_match"
   ]
  },
  {
   "cell_type": "code",
   "execution_count": 186,
   "metadata": {
    "scrolled": false
   },
   "outputs": [
    {
     "name": "stdout",
     "output_type": "stream",
     "text": [
      "\\begin{tabular}{lrrrrr}\n",
      "\\toprule\n",
      "      run &  recall &  infNDCG &  Rprec &  mean\\_r &    std\\_r \\\\\n",
      "\\midrule\n",
      "       DS &   84.56 &    51.78 &  36.43 &  491.67 &   965.26 \\\\\n",
      "    DS\\_GS &   90.71 &    46.73 &  31.77 &  731.06 &  1361.61 \\\\\n",
      "       GS &   89.41 &    47.42 &  32.53 &  675.74 &  1271.05 \\\\\n",
      "     NONE &   83.20 &    53.52 &  37.22 &  437.13 &   833.06 \\\\\n",
      "     mean &   86.97 &    49.86 &  34.49 &  583.90 &  1107.74 \\\\\n",
      "\\midrule\n",
      " baseline &   86.78 &    53.65 &  37.43 &  494.27 &   926.40 \\\\\n",
      "\\bottomrule\n",
      "\\end{tabular}\n"
     ]
    }
   ],
   "source": [
    "andtable = bestfields.reset_index(\"run\",drop=False).set_index(\"run\").drop([\"year\", \"multfields\", \"op\", \"wordremoval\", \"slop\", \"relgs\",\"relfound\",\"ndcg\", \"P_10\"],axis=1).reset_index()\n",
    "andtable[\"run\"] = andtable[\"run\"].map(mapRunNames)\n",
    "andtable.loc[\"mean\"] = andtable.mean()\n",
    "andtable.mean().to_csv(\"mean_and_\"+str(year)+\".csv\")\n",
    "andtable[\"run\"].iat[-1] = \"mean\"\n",
    "andtable.loc[\"baseline\"] = blline\n",
    "andtable[\"run\"].iat[-1] = \"baseline\"\n",
    "latex = andtable.round(2).to_latex(index=False)\n",
    "addMidruleToLatex(latex)"
   ]
  },
  {
   "cell_type": "code",
   "execution_count": 187,
   "metadata": {},
   "outputs": [],
   "source": [
    "phrase = dfrecallphraseand.query(\"multfields=='phrase'\")\n"
   ]
  },
  {
   "cell_type": "markdown",
   "metadata": {},
   "source": [
    "# This is the table that shows the mean performance over the different phrase slops"
   ]
  },
  {
   "cell_type": "code",
   "execution_count": 188,
   "metadata": {},
   "outputs": [
    {
     "name": "stdout",
     "output_type": "stream",
     "text": [
      "\\begin{tabular}{rrrrrr}\n",
      "\\toprule\n",
      " slop &  recall &  infNDCG &  Rprec &  mean\\_r &    std\\_r \\\\\n",
      "\\midrule\n",
      "    2 &   83.94 &    49.28 &  34.10 &  559.95 &  1061.68 \\\\\n",
      "    3 &   84.11 &    49.31 &  34.12 &  559.74 &  1061.78 \\\\\n",
      "    5 &   85.66 &    50.12 &  34.78 &  553.78 &  1050.39 \\\\\n",
      "   10 &   85.87 &    50.17 &  34.82 &  553.15 &  1046.66 \\\\\n",
      "\\bottomrule\n",
      "\\end{tabular}\n",
      "\n"
     ]
    }
   ],
   "source": [
    "sloptable = phrase.groupby([\"slop\"]).mean().reset_index(\"slop\").drop([\"wordremoval\", \"relgs\", \"relfound\", \"ndcg\", \"P_10\", \"year\"],axis=1)\n",
    "print(sloptable.round(2).to_latex(index=False))"
   ]
  },
  {
   "cell_type": "markdown",
   "metadata": {},
   "source": [
    "# This is the table for slop = 10"
   ]
  },
  {
   "cell_type": "code",
   "execution_count": 189,
   "metadata": {
    "scrolled": true
   },
   "outputs": [
    {
     "name": "stdout",
     "output_type": "stream",
     "text": [
      "\\begin{tabular}{lrrrrr}\n",
      "\\toprule\n",
      "      run &  recall &  infNDCG &  Rprec &  mean\\_r &    std\\_r \\\\\n",
      "\\midrule\n",
      "       DS &   83.73 &    52.90 &  36.98 &  475.73 &   924.57 \\\\\n",
      "    DS\\_GS &   89.62 &    47.68 &  32.44 &  665.79 &  1224.09 \\\\\n",
      "       GS &   88.06 &    46.86 &  32.93 &  635.72 &  1200.93 \\\\\n",
      "     NONE &   82.07 &    53.24 &  36.93 &  435.36 &   837.03 \\\\\n",
      "     mean &   85.87 &    50.17 &  34.82 &  553.15 &  1046.66 \\\\\n",
      "\\midrule\n",
      " baseline &   86.78 &    53.65 &  37.43 &  494.27 &   926.40 \\\\\n",
      "\\bottomrule\n",
      "\\end{tabular}\n"
     ]
    }
   ],
   "source": [
    "slop10 = phrase.query(\"slop==10\").drop([\"slop\", \"year\", \"multfields\", \"op\", \"wordremoval\", \"relgs\", \"relfound\", \"ndcg\", \"P_10\", \"year\"],axis=1)\n",
    "slop10.index = slop10.index.map(mapRunNames)\n",
    "slop10 = slop10.reset_index(\"run\")\n",
    "slop10.mean().to_csv(\"mean_phrase_\"+str(year)+\".csv\")\n",
    "slop10.loc[\"mean\"] = slop10.mean()\n",
    "slop10[\"run\"].iat[-1] = \"mean\"\n",
    "slop10.loc[\"baseline\"] = blline\n",
    "slop10[\"run\"].iat[-1] = \"baseline\"\n",
    "latex = slop10.round(2).to_latex(index=False)\n",
    "addMidruleToLatex(latex)"
   ]
  }
 ],
 "metadata": {
  "kernelspec": {
   "display_name": "Python 3",
   "language": "python",
   "name": "python3"
  },
  "language_info": {
   "codemirror_mode": {
    "name": "ipython",
    "version": 3
   },
   "file_extension": ".py",
   "mimetype": "text/x-python",
   "name": "python",
   "nbconvert_exporter": "python",
   "pygments_lexer": "ipython3",
   "version": "3.6.3"
  }
 },
 "nbformat": 4,
 "nbformat_minor": 2
}
