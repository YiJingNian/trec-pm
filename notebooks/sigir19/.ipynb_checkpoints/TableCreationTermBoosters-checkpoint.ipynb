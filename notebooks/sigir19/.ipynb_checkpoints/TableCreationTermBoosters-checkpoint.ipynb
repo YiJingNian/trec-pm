{
 "cells": [
  {
   "cell_type": "code",
   "execution_count": 97,
   "metadata": {},
   "outputs": [],
   "source": [
    "import pandas as pd\n",
    "import numpy as np\n",
    "from scipy.stats import wilcoxon"
   ]
  },
  {
   "cell_type": "code",
   "execution_count": 3,
   "metadata": {},
   "outputs": [],
   "source": [
    "%run TableCreationBaseline.py\n",
    "%run addMidruleToLatex.py\n",
    "%run mapRunNames.py"
   ]
  },
  {
   "cell_type": "code",
   "execution_count": 110,
   "metadata": {},
   "outputs": [],
   "source": [
    "year = 2017\n",
    "df = pd.read_csv(\"/Users/faessler/nfshome/Research/sigir/termboost/termboost_analysis\"+str(year)+\".csv\").round(2)\n",
    "df[\"year\"] = pd.Series([year]*len(df), index=df.index)\n",
    "# In the original experiments we had a duplicate on the positive boosters, remove it\n",
    "df = df.query(\"boosttype != 'pos_boosters'\")"
   ]
  },
  {
   "cell_type": "code",
   "execution_count": 132,
   "metadata": {},
   "outputs": [
    {
     "name": "stdout",
     "output_type": "stream",
     "text": [
      "\\begin{tabular}{lrrrrr}\n",
      "\\toprule\n",
      "{} &  recall &  infNDCG &  Rprec &   mean\\_r &    std\\_r \\\\\n",
      "boosttype &         &          &        &          &          \\\\\n",
      "\\midrule\n",
      "BASELINE  &   74.73 &    36.34 &  24.79 &   905.75 &  1413.57 \\\\\n",
      "CANCER    &   74.21 &    35.20 &  23.67 &   948.99 &  1470.73 \\\\\n",
      "CHEMO     &   74.78 &    36.64 &  24.97 &   898.91 &  1401.02 \\\\\n",
      "DGI       &   74.75 &    36.46 &  24.50 &   934.44 &  1448.53 \\\\\n",
      "DNA       &   74.54 &    35.33 &  24.06 &   932.95 &  1455.68 \\\\\n",
      "GENEFIELD &   74.73 &    36.34 &  24.80 &   905.58 &  1413.05 \\\\\n",
      "MUTATIONS &   74.83 &    36.98 &  25.02 &   868.03 &  1370.58 \\\\\n",
      "NEG\\_BOOST &   73.25 &    32.14 &  21.73 &  1045.85 &  1542.20 \\\\\n",
      "POS\\_BOOST &   74.10 &    37.49 &  24.55 &  1005.93 &  1495.69 \\\\\n",
      "\\bottomrule\n",
      "\\end{tabular}\n",
      "\n"
     ]
    }
   ],
   "source": [
    "def mapboosttype(x):\n",
    "    if x == \"negative_boosters\":\n",
    "        return \"neg_boost\"\n",
    "    if x == \"positive_boosters\":\n",
    "        return \"pos_boost\"\n",
    "    return x\n",
    "table = df.groupby(\"boosttype\").mean()[[\"recall\", \"infNDCG\", \"Rprec\", \"mean_r\", \"std_r\"]].round(2)\n",
    "table.index = table.index.map(mapboosttype)\n",
    "table.index = table.index.map(lambda x: x.upper())\n",
    "table = table.query(\"boosttype != 'EXTRA'\")\n",
    "print(table.to_latex())"
   ]
  },
  {
   "cell_type": "code",
   "execution_count": 108,
   "metadata": {},
   "outputs": [
    {
     "data": {
      "text/plain": [
       "WilcoxonResult(statistic=172.0, pvalue=1.9796680455607098e-05)"
      ]
     },
     "execution_count": 108,
     "metadata": {},
     "output_type": "execute_result"
    }
   ],
   "source": [
    "bl = df.query(\"boosttype == 'baseline'\")[\"infNDCG\"]\n",
    "dgi = df.query(\"boosttype == 'positive_boosters'\")[\"infNDCG\"]\n",
    "wilcoxon(bl, dgi)"
   ]
  }
 ],
 "metadata": {
  "kernelspec": {
   "display_name": "Python 3",
   "language": "python",
   "name": "python3"
  },
  "language_info": {
   "codemirror_mode": {
    "name": "ipython",
    "version": 3
   },
   "file_extension": ".py",
   "mimetype": "text/x-python",
   "name": "python",
   "nbconvert_exporter": "python",
   "pygments_lexer": "ipython3",
   "version": "3.6.3"
  }
 },
 "nbformat": 4,
 "nbformat_minor": 2
}
