{
 "cells": [
  {
   "cell_type": "code",
   "execution_count": 315,
   "metadata": {},
   "outputs": [],
   "source": [
    "import pandas as pd\n",
    "from parse import *\n",
    "from collections import OrderedDict"
   ]
  },
  {
   "cell_type": "code",
   "execution_count": 316,
   "metadata": {},
   "outputs": [],
   "source": [
    "%run TableCreationBaseline.py\n",
    "%run addMidruleToLatex.py\n",
    "%run mapRunNames.py"
   ]
  },
  {
   "cell_type": "code",
   "execution_count": 317,
   "metadata": {},
   "outputs": [],
   "source": [
    "year = 2017"
   ]
  },
  {
   "cell_type": "code",
   "execution_count": 318,
   "metadata": {},
   "outputs": [],
   "source": [
    "df = pd.read_csv(\"/Users/faessler/nfshome/Research/sigir/recall/recall_analysis\"+str(year)+\".csv\", index_col=\"run\")\n",
    "df = df.query(\"slop == 10 and wordremoval == False\")\n",
    "df.loc[df.multfields == 'phrase', 'op'] = \"phrase\"\n",
    "df = df.set_index(\"op\",append=\"True\").round(2).drop(\"wordremoval\", axis=1)"
   ]
  },
  {
   "cell_type": "code",
   "execution_count": 319,
   "metadata": {},
   "outputs": [],
   "source": [
    "bltable = getBaselineDf()\n",
    "blline = bltable.query(\"year == \" + str(year)).drop([\"P_10\", \"year\"], axis=1).stack()\n",
    "blline.index = blline.index.droplevel()"
   ]
  },
  {
   "cell_type": "code",
   "execution_count": 320,
   "metadata": {},
   "outputs": [],
   "source": [
    "%matplotlib inline\n",
    "import matplotlib.pyplot as plt\n",
    "import seaborn as sns\n",
    "sns.set()"
   ]
  },
  {
   "cell_type": "code",
   "execution_count": 321,
   "metadata": {},
   "outputs": [],
   "source": [
    "dfrecall = df.query(\"(run.str.contains('WR') or (run == 'NONE' and op == 'OR'))  and not run.str.contains('DHYP') and not run.str.contains('DPT')\")\n",
    "dfrecall = dfrecall.drop([\"multfields\",\"slop\", \"relgs\", \"relfound\"],axis=1)\n",
    "dfrecall.index = dfrecall.index.map(mapRunNames)\n",
    "dfrecall = dfrecall.reset_index()\n",
    "#dfrecall.index = dfrecall.index.droplevel()\n",
    "#dfrecall.groupby(\"op\").max?"
   ]
  },
  {
   "cell_type": "markdown",
   "metadata": {},
   "source": [
    "# The Allover Table\n"
   ]
  },
  {
   "cell_type": "code",
   "execution_count": 322,
   "metadata": {},
   "outputs": [
    {
     "name": "stdout",
     "output_type": "stream",
     "text": [
      "\\begin{tabular}{llrrrrr}\n",
      "\\toprule\n",
      "   &        &  recall &  infNDCG &  Rprec &  mean\\_r &   std\\_r \\\\\n",
      "run & op &         &          &        &         &         \\\\\n",
      "\\midrule\n",
      "DS\\_GS\\_WR & AND &    76.8 &     43.3 &   28.8 &   603.0 &   999.9 \\\\\n",
      "   & OR &    84.8 &     37.3 &   24.1 &   894.8 &  1331.1 \\\\\n",
      "   & phrase &    75.0 &     45.7 &   29.9 &   590.5 &  1013.6 \\\\\n",
      "DS\\_WR & AND &    70.5 &     43.4 &   31.1 &   559.5 &   994.3 \\\\\n",
      "   & OR &    77.4 &     41.8 &   30.2 &   626.6 &  1045.2 \\\\\n",
      "   & phrase &    69.1 &     44.6 &   31.3 &   559.4 &  1003.3 \\\\\n",
      "GS\\_WR & AND &    76.6 &     44.6 &   29.1 &   596.9 &   994.0 \\\\\n",
      "   & OR &    82.6 &     42.4 &   28.0 &   733.4 &  1137.7 \\\\\n",
      "   & phrase &    74.8 &     46.2 &   30.2 &   589.5 &  1010.4 \\\\\n",
      "NONE & OR &    83.3 &     38.8 &   27.4 &   763.2 &  1182.3 \\\\\n",
      "WR & AND &    70.4 &     44.1 &   31.3 &   556.3 &   991.2 \\\\\n",
      "   & OR &    74.8 &     44.4 &   32.0 &   582.0 &   988.7 \\\\\n",
      "   & phrase &    68.9 &     44.8 &   31.4 &   559.5 &  1001.4 \\\\\n",
      "\\bottomrule\n",
      "\\end{tabular}\n",
      "\n"
     ]
    }
   ],
   "source": [
    "def mapops(op):\n",
    "    if op == \"phrase\":\n",
    "        return \"phr\"\n",
    "    return op\n",
    "alltable = dfrecall.drop([\"ndcg\", \"P_10\"],axis=1)\n",
    "#alltable[\"op\"] = alltable[\"op\"].map(mapops)\n",
    "alltable.set_index([\"run\", \"op\"], inplace=True)\n",
    "print(alltable.round(1).to_latex())"
   ]
  },
  {
   "cell_type": "markdown",
   "metadata": {},
   "source": [
    "# Only for OR"
   ]
  },
  {
   "cell_type": "code",
   "execution_count": 323,
   "metadata": {},
   "outputs": [
    {
     "name": "stdout",
     "output_type": "stream",
     "text": [
      "\\begin{tabular}{lrrrrrrr}\n",
      "\\toprule\n",
      "{} &  recall &   ndcg &  infNDCG &  Rprec &   P\\_10 &  mean\\_r &    std\\_r \\\\\n",
      "run      &         &        &          &        &        &         &          \\\\\n",
      "\\midrule\n",
      "DS\\_GS\\_WR &   84.77 &  50.72 &    37.34 &  24.11 &  42.00 &  894.78 &  1331.11 \\\\\n",
      "DS\\_WR    &   77.42 &  53.49 &    41.75 &  30.24 &  48.33 &  626.63 &  1045.21 \\\\\n",
      "GS\\_WR    &   82.61 &  54.58 &    42.40 &  28.03 &  48.33 &  733.41 &  1137.69 \\\\\n",
      "NONE     &   83.28 &  52.81 &    38.83 &  27.42 &  48.67 &  763.16 &  1182.27 \\\\\n",
      "WR       &   74.81 &  54.72 &    44.36 &  32.03 &  53.67 &  581.98 &   988.70 \\\\\n",
      "\\bottomrule\n",
      "\\end{tabular}\n",
      "\n"
     ]
    }
   ],
   "source": [
    "tableor = dfrecall.query(\"op == 'OR'\").drop('op', axis=1).set_index(\"run\")\n",
    "print(tableor.to_latex())"
   ]
  },
  {
   "cell_type": "markdown",
   "metadata": {},
   "source": [
    "# Only for AND"
   ]
  },
  {
   "cell_type": "code",
   "execution_count": 324,
   "metadata": {},
   "outputs": [
    {
     "name": "stdout",
     "output_type": "stream",
     "text": [
      "\\begin{tabular}{lrrrrrrr}\n",
      "\\toprule\n",
      "{} &  recall &   ndcg &  infNDCG &  Rprec &   P\\_10 &  mean\\_r &   std\\_r \\\\\n",
      "run      &         &        &          &        &        &         &         \\\\\n",
      "\\midrule\n",
      "DS\\_GS\\_WR &   76.75 &  55.52 &    43.28 &  28.81 &  49.67 &  603.03 &  999.93 \\\\\n",
      "DS\\_WR    &   70.53 &  52.68 &    43.37 &  31.13 &  52.67 &  559.50 &  994.31 \\\\\n",
      "GS\\_WR    &   76.57 &  55.94 &    44.55 &  29.13 &  51.00 &  596.92 &  993.98 \\\\\n",
      "WR       &   70.35 &  53.12 &    44.13 &  31.30 &  54.00 &  556.32 &  991.16 \\\\\n",
      "\\bottomrule\n",
      "\\end{tabular}\n",
      "\n"
     ]
    }
   ],
   "source": [
    "tableand = dfrecall.query(\"op == 'AND'\").drop('op', axis=1).set_index(\"run\")\n",
    "print(tableand.to_latex())"
   ]
  },
  {
   "cell_type": "code",
   "execution_count": 325,
   "metadata": {},
   "outputs": [],
   "source": [
    "# Only for phrase queries"
   ]
  },
  {
   "cell_type": "code",
   "execution_count": 326,
   "metadata": {},
   "outputs": [
    {
     "name": "stdout",
     "output_type": "stream",
     "text": [
      "\\begin{tabular}{lrrrrrrr}\n",
      "\\toprule\n",
      "{} &  recall &   ndcg &  infNDCG &  Rprec &   P\\_10 &  mean\\_r &    std\\_r \\\\\n",
      "run      &         &        &          &        &        &         &          \\\\\n",
      "\\midrule\n",
      "DS\\_GS\\_WR &   74.99 &  56.05 &    45.68 &  29.87 &  52.00 &  590.54 &  1013.55 \\\\\n",
      "DS\\_WR    &   69.06 &  52.67 &    44.60 &  31.34 &  55.33 &  559.37 &  1003.27 \\\\\n",
      "GS\\_WR    &   74.81 &  55.97 &    46.17 &  30.22 &  52.00 &  589.46 &  1010.39 \\\\\n",
      "WR       &   68.88 &  52.57 &    44.82 &  31.43 &  55.33 &  559.52 &  1001.45 \\\\\n",
      "\\bottomrule\n",
      "\\end{tabular}\n",
      "\n"
     ]
    }
   ],
   "source": [
    "tablephrase = dfrecall.query(\"op == 'phrase'\").drop('op', axis=1).set_index(\"run\")\n",
    "print(tablephrase.to_latex())"
   ]
  }
 ],
 "metadata": {
  "kernelspec": {
   "display_name": "Python 3",
   "language": "python",
   "name": "python3"
  },
  "language_info": {
   "codemirror_mode": {
    "name": "ipython",
    "version": 3
   },
   "file_extension": ".py",
   "mimetype": "text/x-python",
   "name": "python",
   "nbconvert_exporter": "python",
   "pygments_lexer": "ipython3",
   "version": "3.6.3"
  }
 },
 "nbformat": 4,
 "nbformat_minor": 2
}
