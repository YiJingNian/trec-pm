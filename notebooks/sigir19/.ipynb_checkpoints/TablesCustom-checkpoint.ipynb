{
 "cells": [
  {
   "cell_type": "code",
   "execution_count": 106,
   "metadata": {},
   "outputs": [],
   "source": [
    "import pandas as pd\n",
    "import os\n",
    "from parse import *\n",
    "import numpy as np"
   ]
  },
  {
   "cell_type": "markdown",
   "metadata": {},
   "source": [
    "# This is the table summarizing results from the different query forms AND, OR, PHRASE"
   ]
  },
  {
   "cell_type": "code",
   "execution_count": 84,
   "metadata": {},
   "outputs": [
    {
     "name": "stdout",
     "output_type": "stream",
     "text": [
      "\\begin{tabular}{llrrrrr}\n",
      "\\toprule\n",
      "     &    &  ratio &  infNDCG &  Rprec &   mean\\_r &    std\\_r \\\\\n",
      "year & method &        &          &        &          &          \\\\\n",
      "\\midrule\n",
      "2017 & phrase &  62.69 &    43.53 &  28.76 &   484.45 &   890.36 \\\\\n",
      "     & and &  67.92 &    42.04 &  28.62 &   522.74 &   911.55 \\\\\n",
      "     & or &  88.89 &    35.12 &  23.48 &  1020.66 &  1466.12 \\\\\n",
      "2018 & phrase &  85.87 &    50.17 &  34.82 &   553.15 &  1046.66 \\\\\n",
      "     & and &  86.97 &    49.86 &  34.49 &   583.90 &  1107.74 \\\\\n",
      "     & or &  91.12 &    44.94 &  30.43 &   804.57 &  1369.79 \\\\\n",
      "\\bottomrule\n",
      "\\end{tabular}\n",
      "\n"
     ]
    }
   ],
   "source": [
    "meanfiles = list(filter(lambda f: 'mean_' in f, os.listdir(\".\")))\n",
    "meandfs = []\n",
    "for f in meanfiles:\n",
    "    meandfs.append(pd.read_csv(f, names=[\"measure\", f]).set_index(\"measure\"))\n",
    "meandf = pd.concat(meandfs, axis=1)\n",
    "meandf = meandf.T\n",
    "parses = []\n",
    "for i in meandf.index:\n",
    "    parses.append(parse(\"mean_{method}_{year}.csv\",i).named)\n",
    "indexdf = pd.DataFrame(parses)\n",
    "meandf.reset_index(inplace=True)\n",
    "df = pd.concat([indexdf,meandf],axis=1)\n",
    "df = df.drop(\"index\",axis=1).set_index([\"year\",\"method\"]).sort_index().round(2)\n",
    "df2017 = df.query(\"year == '2017'\").sort_values(\"ratio\")\n",
    "df2018 = df.query(\"year == '2018'\").sort_values(\"ratio\")\n",
    "dfsorted = pd.concat([df2017,df2018])\n",
    "print(dfsorted.to_latex())"
   ]
  },
  {
   "cell_type": "markdown",
   "metadata": {},
   "source": [
    "# This is the table for the baseline classifier evaluation metrics\n",
    "But note that in the paper there has been some postprocessing! Do not simple copy and paste it as it would remove some manual enhancements in the paper."
   ]
  },
  {
   "cell_type": "code",
   "execution_count": 152,
   "metadata": {},
   "outputs": [
    {
     "name": "stdout",
     "output_type": "stream",
     "text": [
      "\\begin{tabular}{llrr}\n",
      "\\toprule\n",
      "     & {} & \\multicolumn{2}{l}{ACC} \\\\\n",
      "     & classifier &    GRU & LogReg \\\\\n",
      "dataset & evaluation method &        &        \\\\\n",
      "\\midrule\n",
      "2017 & cross validation &  78.14 &  74.96 \\\\\n",
      "     & trained on 2018 &  68.00 &  64.48 \\\\\n",
      "2018 & cross validation &  75.98 &  74.40 \\\\\n",
      "     & trained on 2017 &  67.80 &  65.58 \\\\\n",
      "\\bottomrule\n",
      "\\end{tabular}\n",
      "\n"
     ]
    }
   ],
   "source": [
    "logreg2017crossvals = [74.17289220917823, 75.56029882604055, 76.72183662573411, 74.74639615589963, 73.67859049652962, 74.63961558996263, 74.95995728777362, 76.86965811965813, 73.5576923076923, 74.67948717948718]\n",
    "logreg2018crossvals = [74.818401937046, 72.57869249394673, 73.10720775287704, 74.62144155057541, 75.89339794064203, 74.076317383404, 77.46820109024833, 72.98606904906117, 73.51515151515152, 74.96969696969697]\n",
    "gru2017crossvals = np.array([0.777, 0.786, 0.781, 0.772, 0.777, 0.770, 0.786, 0.795, 0.799, 0.771])*100\n",
    "gru2018crossvals = np.array([0.754, 0.761, 0.752, 0.772, 0.770, 0.759, 0.755, 0.750, 0.762, 0.763])*100\n",
    "values = {\"ACC\":[np.mean(logreg2017crossvals), 64.48, np.mean(logreg2018crossvals), 65.58,  np.mean(gru2017crossvals), 68.0, np.mean(gru2018crossvals), 67.8], \"dataset\": ([2017]*2)+([2018]*2)+([2017]*2)+([2018]*2), \"classifier\": ([\"LogReg\"]*4)+([\"GRU\"]*4), \"evaluation method\": [\"cross validation\", \"trained on 2018\", \"cross validation\", \"trained on 2017\"]*2}\n",
    "table = pd.DataFrame(values).set_index([\"classifier\", \"dataset\", \"evaluation method\"])\n",
    "print(table.unstack(\"classifier\").round(2).to_latex())"
   ]
  },
  {
   "cell_type": "code",
   "execution_count": 155,
   "metadata": {},
   "outputs": [
    {
     "data": {
      "text/plain": [
       "Ttest_indResult(statistic=5.50418966752642, pvalue=3.1596951555674927e-05)"
      ]
     },
     "execution_count": 155,
     "metadata": {},
     "output_type": "execute_result"
    }
   ],
   "source": [
    "from scipy import stats\n",
    "stats.ttest_ind(gru2017crossvals, gru2018crossvals)"
   ]
  },
  {
   "cell_type": "code",
   "execution_count": 162,
   "metadata": {},
   "outputs": [
    {
     "name": "stdout",
     "output_type": "stream",
     "text": [
      "\\begin{tabular}{llllll}\n",
      "\\toprule\n",
      "{} &                 0 &                       1 &                   2 &              3 &                 4 \\\\\n",
      "\\midrule\n",
      "0 &              DSYN &                     DPT &                DHYP &           GSYN &              GDES \\\\\n",
      "1 &  disease synonyms &  disease preferred name &  disease hypernyms  &  gene synonyms &  gene description \\\\\n",
      "\\bottomrule\n",
      "\\end{tabular}\n",
      "\n"
     ]
    }
   ],
   "source": [
    "abbrevs = [\"DSYN\", \"DPT\", \"DHYP\", \"GSYN\", \"GDES\"]\n",
    "meanings = [\"disease synonyms\", \"disease preferred name\", \"disease hypernyms \", \"gene synonyms\", \"gene description\"]\n",
    "table = pd.DataFrame([abbrevs, meanings])\n",
    "print(table.to_latex())"
   ]
  }
 ],
 "metadata": {
  "kernelspec": {
   "display_name": "Python 3",
   "language": "python",
   "name": "python3"
  },
  "language_info": {
   "codemirror_mode": {
    "name": "ipython",
    "version": 3
   },
   "file_extension": ".py",
   "mimetype": "text/x-python",
   "name": "python",
   "nbconvert_exporter": "python",
   "pygments_lexer": "ipython3",
   "version": "3.6.3"
  }
 },
 "nbformat": 4,
 "nbformat_minor": 2
}
