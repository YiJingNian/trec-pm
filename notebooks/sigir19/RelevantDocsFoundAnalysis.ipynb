{
 "cells": [
  {
   "cell_type": "code",
   "execution_count": 207,
   "metadata": {},
   "outputs": [],
   "source": [
    "import pandas as pd\n",
    "import numpy as np\n",
    "import os"
   ]
  },
  {
   "cell_type": "code",
   "execution_count": null,
   "metadata": {},
   "outputs": [],
   "source": [
    "goldfile   = \"../../resources/20180622processedGoldStandardTopics.tsv.gz\"\n",
    "resultsdir = \"../../results/\"\n",
    "statsdir   = \"../../stats_pmclass/\"\n",
    "measures   = [\"ndcg\",\"infNDCG\", \"P_10\"]"
   ]
  },
  {
   "cell_type": "code",
   "execution_count": 203,
   "metadata": {},
   "outputs": [],
   "source": [
    "allgsdf = pd.read_csv(goldfile, delimiter=\"\\t\")\n",
    "gsdf = allgsdf.drop([\"title\", \"abstract\", \"major_mesh\", \"minor_mesh\"], axis=1)"
   ]
  },
  {
   "cell_type": "markdown",
   "metadata": {},
   "source": [
    "# Read all results"
   ]
  },
  {
   "cell_type": "code",
   "execution_count": 173,
   "metadata": {},
   "outputs": [],
   "source": [
    "def calculateRelFoundCounts(dir):\n",
    "    # Read all results in the given result directory\n",
    "    resultfiles = sorted(os.listdir(dir))\n",
    "    # Read the result files as DataFrames into a map\n",
    "    resultdfmap = []\n",
    "    for f in resultfiles:\n",
    "        resultdfmap.append(pd.read_csv(dir+f, delimiter=\"\\t\", names=[\"topic\", \"Q0\", \"docid\", \"rank\", \"score\", \"run\"]))\n",
    "    # Create a DataFrame multiindexed with the file name (because those are the keys of the DF maps)\n",
    "    resultmultidxdf = pd.concat(resultdfmap)\n",
    "    resultmultidxdf.set_index([\"run\"], inplace=True)\n",
    "    \n",
    "    # Create a duplication of the relevant GS document to match the results\n",
    "    gsreldocs = gsdf.query(\"relevance_score > 0\")[[\"trec_topic_number\", \"trec_doc_id\"]]\n",
    "    l = []\n",
    "    for experiment in set(resultmultidxdf.index):\n",
    "        idx = pd.Index([experiment]*len(gsreldocs), name=\"run\")\n",
    "        gscopy = gsreldocs.copy()\n",
    "        gscopy.index = idx\n",
    "        l.append(gscopy)\n",
    "    gsdfs = pd.concat(l)\n",
    "    \n",
    "    # Merge the duplicated GS with the results\n",
    "    # With a `left` join, thus eliminating all irrelevant documents.\n",
    "    relmerge = pd.merge(gsdfs, resultmultidxdf, how=\"left\", left_on=[\"run\", \"trec_topic_number\", \"trec_doc_id\"], right_on=[\"run\", \"topic\", \"docid\"])\n",
    "    relmerge.set_index(\"trec_topic_number\", append=\"True\", inplace=True)\n",
    "    \n",
    "    # Count the number of found documents per run and topic    \n",
    "    countsruntopic = relmerge.groupby([\"run\", \"trec_topic_number\"]).count()\n",
    "    countsruntopic = countsruntopic.drop([\"Q0\", \"docid\", \"rank\", \"score\"],axis=1)\n",
    "    countsruntopic.columns = [\"relgs\", \"relfound\"]\n",
    "    \n",
    "    # return the left-merged data and the counts\n",
    "    return relmerge,countsruntopic"
   ]
  },
  {
   "cell_type": "code",
   "execution_count": 174,
   "metadata": {},
   "outputs": [],
   "source": [
    "def prepareStats(path):\n",
    "    \"\"\"\n",
    "    Reads a single stats CSV file, excludes the 'all' row and converts the topic numbers to ints.\n",
    "    Then sets the Topic columns as the new index.\n",
    "    Returns a DataFrame indexed by the non-'all' topics.\n",
    "    \"\"\"\n",
    "    df = pd.read_csv(path).query(\"Topic != 'all'\")\n",
    "    df[\"Topic\"] = df[\"Topic\"].astype(int)\n",
    "    df.sort_values(by=\"Topic\", inplace=True)\n",
    "    df = df.set_index(\"Topic\")\n",
    "    return df"
   ]
  },
  {
   "cell_type": "code",
   "execution_count": 194,
   "metadata": {},
   "outputs": [],
   "source": [
    "def getMeanStatsPerRun(statspath):\n",
    "    \"\"\"\n",
    "    Reads a directory of stat CSV files. Concatenates all the DataFrames and calculates the means for all\n",
    "    score measurements of the topics per run, effectively returning the 'all' row for each run. Note,\n",
    "    however, that really just the mean over the measures is given which should be the 'all' value but the actual\n",
    "    'all' value is not used here.\n",
    "    Returns only those measures defined in the 'measures' list at the beginning of this cell.\n",
    "    \"\"\"\n",
    "    statfiles = sorted(list(filter(lambda f: f.endswith(\".csv\") in f, os.listdir(statspath))))\n",
    "    runstatsmap = {}\n",
    "    for stat in statfiles:\n",
    "        df = prepareStats(statspath+stat)\n",
    "        run = stat.replace(\"OFFICIAL_\", \"\").replace(\".csv\", \"\")\n",
    "        runstatsmap[run] = df\n",
    "    allstats = pd.concat(runstatsmap)\n",
    "    allstats.index.names = [\"run\", \"Topic\"]\n",
    "    allstats = allstats[measures]\n",
    "    meanstats = allstats.mean(level=\"run\")\n",
    "    return meanstats"
   ]
  },
  {
   "cell_type": "code",
   "execution_count": 195,
   "metadata": {},
   "outputs": [],
   "source": [
    "def getRelFoundWithMeanRank(resultspath, statspath):\n",
    "    gsleftmerged,counts = calculateRelFoundCounts(resultspath)\n",
    "    meanstats = getMeanStatsPerRun(statspath)\n",
    "    counts    = counts.sum(level=\"run\").sort_values(\"relfound\")\n",
    "    merge     = pd.merge(counts, meanstats, on=\"run\")\n",
    "    meanranks = gsleftmerged[\"rank\"].dropna().mean(level=\"run\")\n",
    "    stdranks  = gsleftmerged[\"rank\"].dropna().std(level=\"run\")\n",
    "    merge[\"meanrank\"] = meanranks\n",
    "    merge[\"stdrank\"] = stdranks\n",
    "    return merge.sort_values(\"relfound\")"
   ]
  },
  {
   "cell_type": "code",
   "execution_count": 243,
   "metadata": {
    "scrolled": false
   },
   "outputs": [],
   "source": [
    "df = pd.DataFrame(np.random.rand(10,5))\n",
    "df.columns = [\"ndcg\", \"infNDCG\", \"Rprec\", \"P_5\", \"P_10\"]"
   ]
  },
  {
   "cell_type": "code",
   "execution_count": 249,
   "metadata": {},
   "outputs": [],
   "source": [
    "mi = pd.MultiIndex.from_product([[\"Baseline_wr\", \"Baseline\", \"Dis_wr\", \"Dis\", \"COSMIC\"],[1,2]], names=[\"run\", \"topic\"])\n",
    "df = df.set_index(mi)"
   ]
  },
  {
   "cell_type": "code",
   "execution_count": 282,
   "metadata": {},
   "outputs": [],
   "source": [
    "files = [\"file--d:1-m:5-h:7\"]"
   ]
  },
  {
   "cell_type": "code",
   "execution_count": 270,
   "metadata": {},
   "outputs": [],
   "source": [
    "from parse import *"
   ]
  },
  {
   "cell_type": "code",
   "execution_count": 349,
   "metadata": {},
   "outputs": [],
   "source": [
    "result = parse(\"file--d:{d}-m:{m}-h:{h}\", \"file--d:1-m:5-h:7\")"
   ]
  },
  {
   "cell_type": "code",
   "execution_count": 350,
   "metadata": {},
   "outputs": [
    {
     "data": {
      "text/plain": [
       "{'d': '1', 'h': '7', 'm': '5'}"
      ]
     },
     "execution_count": 350,
     "metadata": {},
     "output_type": "execute_result"
    }
   ],
   "source": [
    "result.named"
   ]
  },
  {
   "cell_type": "code",
   "execution_count": 289,
   "metadata": {},
   "outputs": [],
   "source": [
    "df = pd.DataFrame(np.random.rand(10,5))\n",
    "df2 = pd.DataFrame(np.random.rand(10,2))"
   ]
  },
  {
   "cell_type": "code",
   "execution_count": 317,
   "metadata": {},
   "outputs": [
    {
     "data": {
      "text/html": [
       "<div>\n",
       "<style scoped>\n",
       "    .dataframe tbody tr th:only-of-type {\n",
       "        vertical-align: middle;\n",
       "    }\n",
       "\n",
       "    .dataframe tbody tr th {\n",
       "        vertical-align: top;\n",
       "    }\n",
       "\n",
       "    .dataframe thead th {\n",
       "        text-align: right;\n",
       "    }\n",
       "</style>\n",
       "<table border=\"1\" class=\"dataframe\">\n",
       "  <thead>\n",
       "    <tr style=\"text-align: right;\">\n",
       "      <th></th>\n",
       "      <th>0</th>\n",
       "      <th>1</th>\n",
       "      <th>2</th>\n",
       "      <th>3</th>\n",
       "      <th>4</th>\n",
       "      <th>0</th>\n",
       "      <th>1</th>\n",
       "    </tr>\n",
       "  </thead>\n",
       "  <tbody>\n",
       "    <tr>\n",
       "      <th>0</th>\n",
       "      <td>37.36</td>\n",
       "      <td>0.62</td>\n",
       "      <td>71.86</td>\n",
       "      <td>89.33</td>\n",
       "      <td>63.57</td>\n",
       "      <td>29.53</td>\n",
       "      <td>79.51</td>\n",
       "    </tr>\n",
       "    <tr>\n",
       "      <th>1</th>\n",
       "      <td>61.04</td>\n",
       "      <td>99.39</td>\n",
       "      <td>98.70</td>\n",
       "      <td>40.73</td>\n",
       "      <td>6.83</td>\n",
       "      <td>59.63</td>\n",
       "      <td>57.45</td>\n",
       "    </tr>\n",
       "    <tr>\n",
       "      <th>2</th>\n",
       "      <td>35.93</td>\n",
       "      <td>53.95</td>\n",
       "      <td>48.33</td>\n",
       "      <td>28.05</td>\n",
       "      <td>98.69</td>\n",
       "      <td>76.95</td>\n",
       "      <td>52.50</td>\n",
       "    </tr>\n",
       "    <tr>\n",
       "      <th>3</th>\n",
       "      <td>15.61</td>\n",
       "      <td>56.03</td>\n",
       "      <td>10.63</td>\n",
       "      <td>39.10</td>\n",
       "      <td>37.58</td>\n",
       "      <td>65.93</td>\n",
       "      <td>48.67</td>\n",
       "    </tr>\n",
       "    <tr>\n",
       "      <th>4</th>\n",
       "      <td>54.48</td>\n",
       "      <td>82.53</td>\n",
       "      <td>27.30</td>\n",
       "      <td>63.26</td>\n",
       "      <td>86.22</td>\n",
       "      <td>46.13</td>\n",
       "      <td>73.93</td>\n",
       "    </tr>\n",
       "    <tr>\n",
       "      <th>5</th>\n",
       "      <td>4.43</td>\n",
       "      <td>18.65</td>\n",
       "      <td>20.25</td>\n",
       "      <td>67.25</td>\n",
       "      <td>78.39</td>\n",
       "      <td>2.64</td>\n",
       "      <td>46.55</td>\n",
       "    </tr>\n",
       "    <tr>\n",
       "      <th>6</th>\n",
       "      <td>46.90</td>\n",
       "      <td>59.00</td>\n",
       "      <td>83.09</td>\n",
       "      <td>67.41</td>\n",
       "      <td>29.96</td>\n",
       "      <td>1.63</td>\n",
       "      <td>49.01</td>\n",
       "    </tr>\n",
       "    <tr>\n",
       "      <th>7</th>\n",
       "      <td>24.62</td>\n",
       "      <td>99.20</td>\n",
       "      <td>15.51</td>\n",
       "      <td>38.95</td>\n",
       "      <td>1.94</td>\n",
       "      <td>81.04</td>\n",
       "      <td>75.18</td>\n",
       "    </tr>\n",
       "    <tr>\n",
       "      <th>8</th>\n",
       "      <td>70.69</td>\n",
       "      <td>44.62</td>\n",
       "      <td>76.58</td>\n",
       "      <td>1.22</td>\n",
       "      <td>3.18</td>\n",
       "      <td>8.79</td>\n",
       "      <td>32.47</td>\n",
       "    </tr>\n",
       "    <tr>\n",
       "      <th>9</th>\n",
       "      <td>3.85</td>\n",
       "      <td>72.39</td>\n",
       "      <td>27.84</td>\n",
       "      <td>71.23</td>\n",
       "      <td>62.34</td>\n",
       "      <td>3.84</td>\n",
       "      <td>69.09</td>\n",
       "    </tr>\n",
       "  </tbody>\n",
       "</table>\n",
       "</div>"
      ],
      "text/plain": [
       "       0      1      2      3      4      0      1\n",
       "0  37.36   0.62  71.86  89.33  63.57  29.53  79.51\n",
       "1  61.04  99.39  98.70  40.73   6.83  59.63  57.45\n",
       "2  35.93  53.95  48.33  28.05  98.69  76.95  52.50\n",
       "3  15.61  56.03  10.63  39.10  37.58  65.93  48.67\n",
       "4  54.48  82.53  27.30  63.26  86.22  46.13  73.93\n",
       "5   4.43  18.65  20.25  67.25  78.39   2.64  46.55\n",
       "6  46.90  59.00  83.09  67.41  29.96   1.63  49.01\n",
       "7  24.62  99.20  15.51  38.95   1.94  81.04  75.18\n",
       "8  70.69  44.62  76.58   1.22   3.18   8.79  32.47\n",
       "9   3.85  72.39  27.84  71.23  62.34   3.84  69.09"
      ]
     },
     "execution_count": 317,
     "metadata": {},
     "output_type": "execute_result"
    }
   ],
   "source": [
    "(pd.concat([df,df2], axis=1)*100).round(2)"
   ]
  },
  {
   "cell_type": "code",
   "execution_count": 305,
   "metadata": {},
   "outputs": [
    {
     "data": {
      "text/plain": [
       "[{'multfields': 'most_fields',\n",
       "  'op': 'AND',\n",
       "  'run': 'dissyn',\n",
       "  'wordremoval': 'false'},\n",
       " {'multfields': 'most_fields',\n",
       "  'op': 'AND',\n",
       "  'run': 'gendisall',\n",
       "  'wordremoval': 'true'}]"
      ]
     },
     "execution_count": 305,
     "metadata": {},
     "output_type": "execute_result"
    }
   ],
   "source": [
    "s = [\"dissyn--mmm:most_fields-op:AND-wr:false\", \"gendisall--mmm:most_fields-op:AND-wr:true\"]\n",
    "dicts = []\n",
    "for file in s:\n",
    "    dicts.append(parse(\"{run}--mmm:{multfields}-op:{op}-wr:{wordremoval}\",file).named)\n",
    "dicts"
   ]
  },
  {
   "cell_type": "code",
   "execution_count": 333,
   "metadata": {},
   "outputs": [
    {
     "data": {
      "text/html": [
       "<div>\n",
       "<style scoped>\n",
       "    .dataframe tbody tr th:only-of-type {\n",
       "        vertical-align: middle;\n",
       "    }\n",
       "\n",
       "    .dataframe tbody tr th {\n",
       "        vertical-align: top;\n",
       "    }\n",
       "\n",
       "    .dataframe thead th {\n",
       "        text-align: right;\n",
       "    }\n",
       "</style>\n",
       "<table border=\"1\" class=\"dataframe\">\n",
       "  <thead>\n",
       "    <tr style=\"text-align: right;\">\n",
       "      <th></th>\n",
       "      <th>multfields</th>\n",
       "      <th>op</th>\n",
       "      <th>run</th>\n",
       "      <th>wordremoval</th>\n",
       "    </tr>\n",
       "  </thead>\n",
       "  <tbody>\n",
       "    <tr>\n",
       "      <th>0</th>\n",
       "      <td>most_fields</td>\n",
       "      <td>AND</td>\n",
       "      <td>dissyn</td>\n",
       "      <td>false</td>\n",
       "    </tr>\n",
       "    <tr>\n",
       "      <th>1</th>\n",
       "      <td>most_fields</td>\n",
       "      <td>AND</td>\n",
       "      <td>gendisall</td>\n",
       "      <td>true</td>\n",
       "    </tr>\n",
       "  </tbody>\n",
       "</table>\n",
       "</div>"
      ],
      "text/plain": [
       "    multfields   op        run wordremoval\n",
       "0  most_fields  AND     dissyn       false\n",
       "1  most_fields  AND  gendisall        true"
      ]
     },
     "execution_count": 333,
     "metadata": {},
     "output_type": "execute_result"
    }
   ],
   "source": [
    "df = pd.DataFrame(dicts)\n",
    "df"
   ]
  },
  {
   "cell_type": "code",
   "execution_count": 348,
   "metadata": {},
   "outputs": [
    {
     "data": {
      "text/plain": [
       "[2, 0, 1, 2]"
      ]
     },
     "execution_count": 348,
     "metadata": {},
     "output_type": "execute_result"
    }
   ],
   "source": [
    "[2] + list(range(len(df.columns)-1))"
   ]
  },
  {
   "cell_type": "code",
   "execution_count": 342,
   "metadata": {},
   "outputs": [
    {
     "ename": "TypeError",
     "evalue": "all inputs must be Index",
     "output_type": "error",
     "traceback": [
      "\u001b[0;31m---------------------------------------------------------------------------\u001b[0m",
      "\u001b[0;31mTypeError\u001b[0m                                 Traceback (most recent call last)",
      "\u001b[0;32m<ipython-input-342-5c5a2697b26b>\u001b[0m in \u001b[0;36m<module>\u001b[0;34m()\u001b[0m\n\u001b[0;32m----> 1\u001b[0;31m \u001b[0mdf\u001b[0m\u001b[0;34m.\u001b[0m\u001b[0mcolumns\u001b[0m\u001b[0;34m[\u001b[0m\u001b[0;34m:\u001b[0m\u001b[0;34m-\u001b[0m\u001b[0;36m1\u001b[0m\u001b[0;34m]\u001b[0m\u001b[0;34m.\u001b[0m\u001b[0mappend\u001b[0m\u001b[0;34m(\u001b[0m\u001b[0;34m\"huhu\"\u001b[0m\u001b[0;34m)\u001b[0m\u001b[0;34m\u001b[0m\u001b[0m\n\u001b[0m",
      "\u001b[0;32m~/Coding/miniconda3/lib/python3.6/site-packages/pandas/core/indexes/base.py\u001b[0m in \u001b[0;36mappend\u001b[0;34m(self, other)\u001b[0m\n\u001b[1;32m   2134\u001b[0m         \u001b[0;32mfor\u001b[0m \u001b[0mobj\u001b[0m \u001b[0;32min\u001b[0m \u001b[0mto_concat\u001b[0m\u001b[0;34m:\u001b[0m\u001b[0;34m\u001b[0m\u001b[0m\n\u001b[1;32m   2135\u001b[0m             \u001b[0;32mif\u001b[0m \u001b[0;32mnot\u001b[0m \u001b[0misinstance\u001b[0m\u001b[0;34m(\u001b[0m\u001b[0mobj\u001b[0m\u001b[0;34m,\u001b[0m \u001b[0mIndex\u001b[0m\u001b[0;34m)\u001b[0m\u001b[0;34m:\u001b[0m\u001b[0;34m\u001b[0m\u001b[0m\n\u001b[0;32m-> 2136\u001b[0;31m                 \u001b[0;32mraise\u001b[0m \u001b[0mTypeError\u001b[0m\u001b[0;34m(\u001b[0m\u001b[0;34m'all inputs must be Index'\u001b[0m\u001b[0;34m)\u001b[0m\u001b[0;34m\u001b[0m\u001b[0m\n\u001b[0m\u001b[1;32m   2137\u001b[0m \u001b[0;34m\u001b[0m\u001b[0m\n\u001b[1;32m   2138\u001b[0m         \u001b[0mnames\u001b[0m \u001b[0;34m=\u001b[0m \u001b[0;34m{\u001b[0m\u001b[0mobj\u001b[0m\u001b[0;34m.\u001b[0m\u001b[0mname\u001b[0m \u001b[0;32mfor\u001b[0m \u001b[0mobj\u001b[0m \u001b[0;32min\u001b[0m \u001b[0mto_concat\u001b[0m\u001b[0;34m}\u001b[0m\u001b[0;34m\u001b[0m\u001b[0m\n",
      "\u001b[0;31mTypeError\u001b[0m: all inputs must be Index"
     ]
    }
   ],
   "source": [
    "df.columns[:-1].append(\"huhu\")"
   ]
  },
  {
   "cell_type": "code",
   "execution_count": 332,
   "metadata": {},
   "outputs": [
    {
     "data": {
      "text/plain": [
       "Index(['multfields', 'op', 'run', 'wordremoval'], dtype='object')"
      ]
     },
     "execution_count": 332,
     "metadata": {},
     "output_type": "execute_result"
    }
   ],
   "source": [
    "df.columns"
   ]
  }
 ],
 "metadata": {
  "kernelspec": {
   "display_name": "Python 3",
   "language": "python",
   "name": "python3"
  },
  "language_info": {
   "codemirror_mode": {
    "name": "ipython",
    "version": 3
   },
   "file_extension": ".py",
   "mimetype": "text/x-python",
   "name": "python",
   "nbconvert_exporter": "python",
   "pygments_lexer": "ipython3",
   "version": "3.6.3"
  }
 },
 "nbformat": 4,
 "nbformat_minor": 2
}
