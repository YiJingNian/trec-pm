{
 "cells": [
  {
   "cell_type": "code",
   "execution_count": 19,
   "metadata": {},
   "outputs": [],
   "source": [
    "import pandas as pd"
   ]
  },
  {
   "cell_type": "code",
   "execution_count": 20,
   "metadata": {},
   "outputs": [],
   "source": [
    "df17 = pd.read_csv(\"/Users/faessler/nfshome/Research/sigir/recall/recall_analysis2017.csv\", index_col=\"run\").round(2)\n",
    "df18 = pd.read_csv(\"/Users/faessler/nfshome/Research/sigir/recall/recall_analysis2018.csv\", index_col=\"run\").round(2)\n",
    "df17[\"year\"] = pd.Series([2017]*len(df17), index=df17.index)\n",
    "df18[\"year\"] = pd.Series([2018]*len(df18), index=df18.index)"
   ]
  },
  {
   "cell_type": "markdown",
   "metadata": {},
   "source": [
    "# Baseline runs\n",
    "bl = baseline:\n",
    "- best_fields\n",
    "- OR operator\n",
    "- no word removal"
   ]
  },
  {
   "cell_type": "code",
   "execution_count": 21,
   "metadata": {},
   "outputs": [],
   "source": [
    "bl17 = df17.query(\"multfields == 'best_fields' and op == 'OR' and wordremoval == False\")\n",
    "bl18 = df18.query(\"multfields == 'best_fields' and op == 'OR' and wordremoval == False\")"
   ]
  },
  {
   "cell_type": "code",
   "execution_count": 22,
   "metadata": {},
   "outputs": [],
   "source": [
    "df = pd.concat([bl17,bl18])"
   ]
  },
  {
   "cell_type": "code",
   "execution_count": 23,
   "metadata": {},
   "outputs": [],
   "source": [
    "bltable = df[[\"ratio\",\"infNDCG\", \"Rprec\", \"P_10\", \"mean_r\", \"std_r\",\"year\"]].loc[\"NONE\"].reset_index().drop(\"run\",axis=1)"
   ]
  },
  {
   "cell_type": "code",
   "execution_count": 24,
   "metadata": {},
   "outputs": [
    {
     "name": "stdout",
     "output_type": "stream",
     "text": [
      "\\begin{tabular}{rrrrrrr}\n",
      "\\toprule\n",
      " ratio &  infNDCG &  Rprec &   P\\_10 &  mean\\_r &    std\\_r &  year \\\\\n",
      "\\midrule\n",
      " 83.28 &    38.83 &  27.42 &  48.67 &  763.16 &  1182.27 &  2017 \\\\\n",
      " 86.78 &    53.65 &  37.43 &  58.20 &  494.27 &   926.40 &  2018 \\\\\n",
      "\\bottomrule\n",
      "\\end{tabular}\n",
      "\n"
     ]
    }
   ],
   "source": [
    "print(bltable.to_latex(index=False))"
   ]
  }
 ],
 "metadata": {
  "kernelspec": {
   "display_name": "Python 3",
   "language": "python",
   "name": "python3"
  },
  "language_info": {
   "codemirror_mode": {
    "name": "ipython",
    "version": 3
   },
   "file_extension": ".py",
   "mimetype": "text/x-python",
   "name": "python",
   "nbconvert_exporter": "python",
   "pygments_lexer": "ipython3",
   "version": "3.6.3"
  }
 },
 "nbformat": 4,
 "nbformat_minor": 2
}
