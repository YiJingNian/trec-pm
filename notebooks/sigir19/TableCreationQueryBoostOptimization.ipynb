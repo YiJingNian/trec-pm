{
 "cells": [
  {
   "cell_type": "code",
   "execution_count": 62,
   "metadata": {},
   "outputs": [],
   "source": [
    "import pandas as pd\n",
    "import numpy as np\n",
    "from scipy.stats import wilcoxon"
   ]
  },
  {
   "cell_type": "code",
   "execution_count": 63,
   "metadata": {},
   "outputs": [],
   "source": [
    "%run TableCreationBaseline.py\n",
    "%run addMidruleToLatex.py\n",
    "%run mapRunNames.py"
   ]
  },
  {
   "cell_type": "code",
   "execution_count": 64,
   "metadata": {},
   "outputs": [],
   "source": [
    "year = 2018"
   ]
  },
  {
   "cell_type": "code",
   "execution_count": 65,
   "metadata": {},
   "outputs": [],
   "source": [
    "bltable = getBaselineDf()\n",
    "blline = bltable.query(\"year == \" + str(year)).drop([\"P_10\", \"year\"], axis=1).stack()\n",
    "blline.index = blline.index.droplevel()"
   ]
  },
  {
   "cell_type": "code",
   "execution_count": 66,
   "metadata": {},
   "outputs": [],
   "source": [
    "allstats=[]"
   ]
  },
  {
   "cell_type": "code",
   "execution_count": 67,
   "metadata": {},
   "outputs": [],
   "source": [
    "def printBestStats(run):\n",
    "    df = pd.read_csv(\"/Users/faessler/nfshome/Research/sigir/boostopt/\"+run+\"_analysis\"+str(year)+\".csv\").round(2)\n",
    "    df[\"year\"] = pd.Series([year]*len(df), index=df.index)\n",
    "    bestidx = df[\"infNDCG\"].idxmax()\n",
    "    best = df.loc[bestidx]\n",
    "    print(best)\n",
    "    difference = blline[\"infNDCG\"] - best[\"infNDCG\"]\n",
    "    print(\"Difference to original baseline:\", difference)\n",
    "    meanrank = best[\"mean_r\"]\n",
    "    std      = best[\"std_r\"]\n",
    "    recall   = best[\"recall\"]\n",
    "    bestparams = df[list(filter(lambda x: \"boost\" in x, df.columns))].loc[bestidx]\n",
    "    allstats.append( {\"run\":run, \"bestscore\": best[\"infNDCG\"], \"difftobaseline\": difference, \"bestparams\":bestparams.to_dict(), \"mean_r\": meanrank, \"std_r\": std, \"recall\": recall})"
   ]
  },
  {
   "cell_type": "markdown",
   "metadata": {},
   "source": [
    "# Positive and negative PM boosters"
   ]
  },
  {
   "cell_type": "code",
   "execution_count": null,
   "metadata": {},
   "outputs": [],
   "source": []
  },
  {
   "cell_type": "code",
   "execution_count": 68,
   "metadata": {},
   "outputs": [
    {
     "name": "stdout",
     "output_type": "stream",
     "text": [
      "posbooster       0.50\n",
      "negbooster       0.00\n",
      "recall          93.47\n",
      "relgs         5588.00\n",
      "relfound      5223.00\n",
      "ndcg            52.14\n",
      "infNDCG         37.01\n",
      "Rprec           25.06\n",
      "P_10            42.40\n",
      "mean_r        1131.45\n",
      "std_r         1717.41\n",
      "year          2018.00\n",
      "Name: 6, dtype: float64\n",
      "Difference to original baseline: 16.64\n"
     ]
    }
   ],
   "source": [
    "printBestStats(\"posneg\")"
   ]
  },
  {
   "cell_type": "markdown",
   "metadata": {},
   "source": [
    "# Additional terms"
   ]
  },
  {
   "cell_type": "code",
   "execution_count": 69,
   "metadata": {},
   "outputs": [
    {
     "name": "stdout",
     "output_type": "stream",
     "text": [
      "expansions     DSY_DHY_DP_GSY_GDE_DGI\n",
      "cancerboost                       0.5\n",
      "chemoboost                        1.5\n",
      "dnaboost                          0.5\n",
      "recall                          93.15\n",
      "relgs                            5588\n",
      "relfound                         5205\n",
      "ndcg                            47.72\n",
      "infNDCG                         31.86\n",
      "Rprec                           21.84\n",
      "P_10                             33.4\n",
      "mean_r                        1268.66\n",
      "std_r                         1804.24\n",
      "year                             2018\n",
      "Name: 10, dtype: object\n",
      "Difference to original baseline: 21.79\n"
     ]
    }
   ],
   "source": [
    "printBestStats(\"additional\")"
   ]
  },
  {
   "cell_type": "markdown",
   "metadata": {},
   "source": [
    "# Fields"
   ]
  },
  {
   "cell_type": "code",
   "execution_count": 70,
   "metadata": {},
   "outputs": [
    {
     "name": "stdout",
     "output_type": "stream",
     "text": [
      "template          baseline\n",
      "titleboost             2.5\n",
      "abstractboost            2\n",
      "keywordboost             1\n",
      "meshboost                1\n",
      "genefieldboost           1\n",
      "recall               93.74\n",
      "relgs                 5588\n",
      "relfound              5238\n",
      "ndcg                 59.97\n",
      "infNDCG              47.82\n",
      "Rprec                32.31\n",
      "P_10                  53.4\n",
      "mean_r              841.58\n",
      "std_r              1483.62\n",
      "year                  2018\n",
      "Name: 621, dtype: object\n",
      "Difference to original baseline: 5.829999999999998\n"
     ]
    }
   ],
   "source": [
    "printBestStats(\"fields\")"
   ]
  },
  {
   "cell_type": "markdown",
   "metadata": {},
   "source": [
    "# Mutations"
   ]
  },
  {
   "cell_type": "code",
   "execution_count": 71,
   "metadata": {},
   "outputs": [
    {
     "name": "stdout",
     "output_type": "stream",
     "text": [
      "mutationboost       1.00\n",
      "recall             93.20\n",
      "relgs            5588.00\n",
      "relfound         5208.00\n",
      "ndcg               49.31\n",
      "infNDCG            33.70\n",
      "Rprec              23.36\n",
      "P_10               34.80\n",
      "mean_r           1200.68\n",
      "std_r            1779.44\n",
      "year             2018.00\n",
      "Name: 1, dtype: float64\n",
      "Difference to original baseline: 19.949999999999996\n"
     ]
    }
   ],
   "source": [
    "printBestStats(\"mutation\")"
   ]
  },
  {
   "cell_type": "markdown",
   "metadata": {},
   "source": [
    "# DGInt"
   ]
  },
  {
   "cell_type": "code",
   "execution_count": 72,
   "metadata": {},
   "outputs": [
    {
     "name": "stdout",
     "output_type": "stream",
     "text": [
      "drugboost       0.50\n",
      "recall         93.04\n",
      "relgs        5588.00\n",
      "relfound     5199.00\n",
      "ndcg           48.74\n",
      "infNDCG        33.33\n",
      "Rprec          23.33\n",
      "P_10           34.60\n",
      "mean_r       1184.17\n",
      "std_r        1758.67\n",
      "year         2018.00\n",
      "Name: 0, dtype: float64\n",
      "Difference to original baseline: 20.32\n"
     ]
    }
   ],
   "source": [
    "printBestStats(\"drug\")"
   ]
  },
  {
   "cell_type": "markdown",
   "metadata": {},
   "source": [
    "# Genes and Diseases"
   ]
  },
  {
   "cell_type": "code",
   "execution_count": 73,
   "metadata": {},
   "outputs": [
    {
     "name": "stdout",
     "output_type": "stream",
     "text": [
      "geneboost           1.50\n",
      "genedescboost       1.00\n",
      "genesynboost        1.00\n",
      "disboost            2.00\n",
      "dissynboost         1.00\n",
      "recall             93.09\n",
      "relgs            5588.00\n",
      "relfound         5202.00\n",
      "ndcg               59.66\n",
      "infNDCG            47.57\n",
      "Rprec              31.58\n",
      "P_10               51.00\n",
      "mean_r            785.97\n",
      "std_r            1351.60\n",
      "year             2018.00\n",
      "Name: 87, dtype: float64\n",
      "Difference to original baseline: 6.079999999999998\n"
     ]
    }
   ],
   "source": [
    "printBestStats(\"genedis\")"
   ]
  },
  {
   "cell_type": "markdown",
   "metadata": {},
   "source": [
    "# PM Classifier"
   ]
  },
  {
   "cell_type": "code",
   "execution_count": 74,
   "metadata": {},
   "outputs": [
    {
     "name": "stdout",
     "output_type": "stream",
     "text": [
      "template                 baseline_should\n",
      "classboost                             1\n",
      "classifier    pmclass2017lstmgru.keyword\n",
      "recall                             93.84\n",
      "relgs                               5588\n",
      "relfound                            5244\n",
      "ndcg                               60.94\n",
      "infNDCG                             48.6\n",
      "Rprec                               32.8\n",
      "P_10                                53.2\n",
      "mean_r                            780.62\n",
      "std_r                            1392.08\n",
      "year                                2018\n",
      "Name: 77, dtype: object\n",
      "Difference to original baseline: 5.049999999999997\n"
     ]
    }
   ],
   "source": [
    "df = pd.read_csv(\"/Users/faessler/nfshome/Research/sigir/boostopt/pmclassboostopt_analysis\"+str(year)+\".csv\").round(2)\n",
    "df[\"year\"] = pd.Series([year]*len(df), index=df.index)\n",
    "# Exclude classifiers trained on 2018 data, that is unfair\n",
    "df = df.query(\"not classifier.str.contains('\"+str(year)+\"')\")\n",
    "bestidx = df[\"infNDCG\"].idxmax()\n",
    "best = df.loc[bestidx]\n",
    "print(best)\n",
    "difference =  blline[\"infNDCG\"]-best[\"infNDCG\"]\n",
    "print(\"Difference to original baseline:\",difference )\n",
    "meanrank = best[\"mean_r\"]\n",
    "std      = best[\"std_r\"]\n",
    "recall   = best[\"recall\"]\n",
    "bestparams = df[list(filter(lambda x: \"boost\" in x, df.columns))].loc[bestidx]\n",
    "allstats.append( {\"run\":\"pmclassboostopt\", \"bestscore\": best[\"infNDCG\"], \"difftobaseline\": difference, \"bestparams\":bestparams.to_dict(), \"mean_r\": meanrank, \"std_r\": std, \"recall\": recall})"
   ]
  },
  {
   "cell_type": "code",
   "execution_count": 75,
   "metadata": {},
   "outputs": [
    {
     "name": "stdout",
     "output_type": "stream",
     "text": [
      "\\begin{tabular}{lrrrrr}\n",
      "\\toprule\n",
      "             run &  recall &  bestscore &  difftobaseline &   mean\\_r &    std\\_r \\\\\n",
      "\\midrule\n",
      "          posneg &   93.47 &      37.01 &           16.64 &  1131.45 &  1717.41 \\\\\n",
      "      additional &   93.15 &      31.86 &           21.79 &  1268.66 &  1804.24 \\\\\n",
      "          fields &   93.74 &      47.82 &            5.83 &   841.58 &  1483.62 \\\\\n",
      "        mutation &   93.20 &      33.70 &           19.95 &  1200.68 &  1779.44 \\\\\n",
      "            drug &   93.04 &      33.33 &           20.32 &  1184.17 &  1758.67 \\\\\n",
      "         genedis &   93.09 &      47.57 &            6.08 &   785.97 &  1351.60 \\\\\n",
      " pmclassboostopt &   93.84 &      48.60 &            5.05 &   780.62 &  1392.08 \\\\\n",
      "\\bottomrule\n",
      "\\end{tabular}\n",
      "\n"
     ]
    }
   ],
   "source": [
    "table = pd.DataFrame(allstats)\n",
    "table = table[[\"run\", \"recall\", \"bestscore\", \"difftobaseline\", \"mean_r\", \"std_r\"]]\n",
    "print(table.to_latex(index=False))"
   ]
  },
  {
   "cell_type": "code",
   "execution_count": 76,
   "metadata": {},
   "outputs": [
    {
     "data": {
      "text/plain": [
       "[{'bestparams': {'negbooster': 0.0, 'posbooster': 0.5},\n",
       "  'bestscore': 37.01,\n",
       "  'difftobaseline': 16.64,\n",
       "  'mean_r': 1131.45,\n",
       "  'recall': 93.47,\n",
       "  'run': 'posneg',\n",
       "  'std_r': 1717.41},\n",
       " {'bestparams': {'cancerboost': 0.5, 'chemoboost': 1.5, 'dnaboost': 0.5},\n",
       "  'bestscore': 31.86,\n",
       "  'difftobaseline': 21.79,\n",
       "  'mean_r': 1268.66,\n",
       "  'recall': 93.15,\n",
       "  'run': 'additional',\n",
       "  'std_r': 1804.24},\n",
       " {'bestparams': {'abstractboost': 2.0,\n",
       "   'genefieldboost': 1.0,\n",
       "   'keywordboost': 1.0,\n",
       "   'meshboost': 1.0,\n",
       "   'titleboost': 2.5},\n",
       "  'bestscore': 47.82,\n",
       "  'difftobaseline': 5.829999999999998,\n",
       "  'mean_r': 841.58,\n",
       "  'recall': 93.74,\n",
       "  'run': 'fields',\n",
       "  'std_r': 1483.62},\n",
       " {'bestparams': {'mutationboost': 1.0},\n",
       "  'bestscore': 33.7,\n",
       "  'difftobaseline': 19.949999999999996,\n",
       "  'mean_r': 1200.68,\n",
       "  'recall': 93.2,\n",
       "  'run': 'mutation',\n",
       "  'std_r': 1779.44},\n",
       " {'bestparams': {'drugboost': 0.5},\n",
       "  'bestscore': 33.33,\n",
       "  'difftobaseline': 20.32,\n",
       "  'mean_r': 1184.17,\n",
       "  'recall': 93.04,\n",
       "  'run': 'drug',\n",
       "  'std_r': 1758.67},\n",
       " {'bestparams': {'disboost': 2.0,\n",
       "   'dissynboost': 1.0,\n",
       "   'geneboost': 1.5,\n",
       "   'genedescboost': 1.0,\n",
       "   'genesynboost': 1.0},\n",
       "  'bestscore': 47.57,\n",
       "  'difftobaseline': 6.079999999999998,\n",
       "  'mean_r': 785.97,\n",
       "  'recall': 93.09,\n",
       "  'run': 'genedis',\n",
       "  'std_r': 1351.6},\n",
       " {'bestparams': {'classboost': 1.0},\n",
       "  'bestscore': 48.6,\n",
       "  'difftobaseline': 5.049999999999997,\n",
       "  'mean_r': 780.62,\n",
       "  'recall': 93.84,\n",
       "  'run': 'pmclassboostopt',\n",
       "  'std_r': 1392.08}]"
      ]
     },
     "execution_count": 76,
     "metadata": {},
     "output_type": "execute_result"
    }
   ],
   "source": [
    "allstats"
   ]
  }
 ],
 "metadata": {
  "kernelspec": {
   "display_name": "Python 3",
   "language": "python",
   "name": "python3"
  },
  "language_info": {
   "codemirror_mode": {
    "name": "ipython",
    "version": 3
   },
   "file_extension": ".py",
   "mimetype": "text/x-python",
   "name": "python",
   "nbconvert_exporter": "python",
   "pygments_lexer": "ipython3",
   "version": "3.6.3"
  }
 },
 "nbformat": 4,
 "nbformat_minor": 2
}
