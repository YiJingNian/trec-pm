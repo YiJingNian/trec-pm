{
 "cells": [
  {
   "cell_type": "code",
   "execution_count": 81,
   "metadata": {},
   "outputs": [],
   "source": [
    "import pandas as pd\n",
    "import os\n",
    "from parse import *\n",
    "from scipy.stats import wilcoxon"
   ]
  },
  {
   "cell_type": "code",
   "execution_count": 82,
   "metadata": {},
   "outputs": [],
   "source": [
    "%run prepareStats.py"
   ]
  },
  {
   "cell_type": "code",
   "execution_count": 83,
   "metadata": {},
   "outputs": [],
   "source": [
    "measures   = [\"ndcg\",\"infNDCG\", \"Rprec\", \"P_10\"]"
   ]
  },
  {
   "cell_type": "code",
   "execution_count": 84,
   "metadata": {},
   "outputs": [],
   "source": [
    "statspath = \"/Users/faessler/nfshome/Research/sigir/recall/stats_recall_2018/\"\n",
    "\n",
    "statfiles = sorted(list(filter(lambda f: f.endswith(\".csv.gz\"), os.listdir(statspath))))\n",
    "runstatsmap = {}\n",
    "for stat in statfiles:\n",
    "    df = prepareStats(statspath+stat)\n",
    "    run = stat.replace(\"OFFICIAL_\", \"\").replace(\".csv.gz\", \"\")\n",
    "    runstatsmap[run] = df\n",
    "allstats = pd.concat(runstatsmap)\n",
    "allstats.index.names = [\"run\", \"Topic\"]\n",
    "allstats = allstats[measures]\n",
    "allstats = allstats.reset_index()"
   ]
  },
  {
   "cell_type": "code",
   "execution_count": 85,
   "metadata": {},
   "outputs": [],
   "source": [
    "filenameformat = \"{expansions}--mmm:{querymethod}-op:{op}-wr:{wc}-sl:{slop}\"\n",
    "df = allstats\n",
    "parses = []\n",
    "for run in df[\"run\"]:\n",
    "    parses.append(parse(filenameformat, run).named)\n",
    "indexdf = pd.DataFrame(parses,columns=parses[0].keys())\n",
    "index = pd.Index(range(len(df)))\n",
    "df.index = index\n",
    "df = pd.concat([indexdf,df],axis=1)\n",
    "#df = df.drop(\"run\",axis=1)"
   ]
  },
  {
   "cell_type": "markdown",
   "metadata": {},
   "source": [
    "# Are the results with AND and PHRASE the same?\n",
    "Answer: No."
   ]
  },
  {
   "cell_type": "code",
   "execution_count": 86,
   "metadata": {},
   "outputs": [
    {
     "name": "stdout",
     "output_type": "stream",
     "text": [
      "WilcoxonResult(statistic=1088511.0, pvalue=8.077592388141554e-83)\n"
     ]
    }
   ],
   "source": [
    "phrasevalues = df.query(\"querymethod == 'phrase' and slop == '10'\")[\"infNDCG\"]\n",
    "andvalues    = df.query(\"op == 'AND' and querymethod == 'best_fields'\")[\"infNDCG\"]\n",
    "\n",
    "print(wilcoxon( andvalues, phrasevalues))\n"
   ]
  }
 ],
 "metadata": {
  "kernelspec": {
   "display_name": "Python 3",
   "language": "python",
   "name": "python3"
  },
  "language_info": {
   "codemirror_mode": {
    "name": "ipython",
    "version": 3
   },
   "file_extension": ".py",
   "mimetype": "text/x-python",
   "name": "python",
   "nbconvert_exporter": "python",
   "pygments_lexer": "ipython3",
   "version": "3.6.3"
  }
 },
 "nbformat": 4,
 "nbformat_minor": 2
}
